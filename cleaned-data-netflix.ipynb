{
 "cells": [
  {
   "cell_type": "code",
   "execution_count": 1,
   "id": "9398b012",
   "metadata": {
    "execution": {
     "iopub.execute_input": "2025-06-28T12:54:12.484180Z",
     "iopub.status.busy": "2025-06-28T12:54:12.483469Z",
     "iopub.status.idle": "2025-06-28T12:54:15.517361Z",
     "shell.execute_reply": "2025-06-28T12:54:15.516294Z"
    },
    "papermill": {
     "duration": 3.045376,
     "end_time": "2025-06-28T12:54:15.519900",
     "exception": false,
     "start_time": "2025-06-28T12:54:12.474524",
     "status": "completed"
    },
    "tags": []
   },
   "outputs": [],
   "source": [
    "import pandas as pd"
   ]
  },
  {
   "cell_type": "code",
   "execution_count": 2,
   "id": "121d1e9a",
   "metadata": {
    "execution": {
     "iopub.execute_input": "2025-06-28T12:54:15.536941Z",
     "iopub.status.busy": "2025-06-28T12:54:15.536366Z",
     "iopub.status.idle": "2025-06-28T12:54:15.545482Z",
     "shell.execute_reply": "2025-06-28T12:54:15.544048Z"
    },
    "papermill": {
     "duration": 0.019751,
     "end_time": "2025-06-28T12:54:15.547724",
     "exception": false,
     "start_time": "2025-06-28T12:54:15.527973",
     "status": "completed"
    },
    "tags": []
   },
   "outputs": [
    {
     "data": {
      "text/plain": [
       "'2.2.3'"
      ]
     },
     "execution_count": 2,
     "metadata": {},
     "output_type": "execute_result"
    }
   ],
   "source": [
    "pd.__version__"
   ]
  },
  {
   "cell_type": "code",
   "execution_count": 3,
   "id": "d82db68c",
   "metadata": {
    "execution": {
     "iopub.execute_input": "2025-06-28T12:54:15.563640Z",
     "iopub.status.busy": "2025-06-28T12:54:15.563284Z",
     "iopub.status.idle": "2025-06-28T12:54:15.647367Z",
     "shell.execute_reply": "2025-06-28T12:54:15.645792Z"
    },
    "papermill": {
     "duration": 0.095161,
     "end_time": "2025-06-28T12:54:15.650171",
     "exception": false,
     "start_time": "2025-06-28T12:54:15.555010",
     "status": "completed"
    },
    "tags": []
   },
   "outputs": [],
   "source": [
    "data=pd.read_csv('/kaggle/input/netflix-data-cleaning-analysis-and-visualization/netflix1.csv')"
   ]
  },
  {
   "cell_type": "code",
   "execution_count": 4,
   "id": "f1a2c837",
   "metadata": {
    "execution": {
     "iopub.execute_input": "2025-06-28T12:54:15.669048Z",
     "iopub.status.busy": "2025-06-28T12:54:15.668523Z",
     "iopub.status.idle": "2025-06-28T12:54:15.716791Z",
     "shell.execute_reply": "2025-06-28T12:54:15.715357Z"
    },
    "papermill": {
     "duration": 0.060209,
     "end_time": "2025-06-28T12:54:15.719179",
     "exception": false,
     "start_time": "2025-06-28T12:54:15.658970",
     "status": "completed"
    },
    "tags": []
   },
   "outputs": [
    {
     "data": {
      "text/html": [
       "<div>\n",
       "<style scoped>\n",
       "    .dataframe tbody tr th:only-of-type {\n",
       "        vertical-align: middle;\n",
       "    }\n",
       "\n",
       "    .dataframe tbody tr th {\n",
       "        vertical-align: top;\n",
       "    }\n",
       "\n",
       "    .dataframe thead th {\n",
       "        text-align: right;\n",
       "    }\n",
       "</style>\n",
       "<table border=\"1\" class=\"dataframe\">\n",
       "  <thead>\n",
       "    <tr style=\"text-align: right;\">\n",
       "      <th></th>\n",
       "      <th>show_id</th>\n",
       "      <th>type</th>\n",
       "      <th>title</th>\n",
       "      <th>director</th>\n",
       "      <th>country</th>\n",
       "      <th>date_added</th>\n",
       "      <th>release_year</th>\n",
       "      <th>rating</th>\n",
       "      <th>duration</th>\n",
       "      <th>listed_in</th>\n",
       "    </tr>\n",
       "  </thead>\n",
       "  <tbody>\n",
       "    <tr>\n",
       "      <th>0</th>\n",
       "      <td>s1</td>\n",
       "      <td>Movie</td>\n",
       "      <td>Dick Johnson Is Dead</td>\n",
       "      <td>Kirsten Johnson</td>\n",
       "      <td>United States</td>\n",
       "      <td>9/25/2021</td>\n",
       "      <td>2020</td>\n",
       "      <td>PG-13</td>\n",
       "      <td>90 min</td>\n",
       "      <td>Documentaries</td>\n",
       "    </tr>\n",
       "    <tr>\n",
       "      <th>1</th>\n",
       "      <td>s3</td>\n",
       "      <td>TV Show</td>\n",
       "      <td>Ganglands</td>\n",
       "      <td>Julien Leclercq</td>\n",
       "      <td>France</td>\n",
       "      <td>9/24/2021</td>\n",
       "      <td>2021</td>\n",
       "      <td>TV-MA</td>\n",
       "      <td>1 Season</td>\n",
       "      <td>Crime TV Shows, International TV Shows, TV Act...</td>\n",
       "    </tr>\n",
       "    <tr>\n",
       "      <th>2</th>\n",
       "      <td>s6</td>\n",
       "      <td>TV Show</td>\n",
       "      <td>Midnight Mass</td>\n",
       "      <td>Mike Flanagan</td>\n",
       "      <td>United States</td>\n",
       "      <td>9/24/2021</td>\n",
       "      <td>2021</td>\n",
       "      <td>TV-MA</td>\n",
       "      <td>1 Season</td>\n",
       "      <td>TV Dramas, TV Horror, TV Mysteries</td>\n",
       "    </tr>\n",
       "    <tr>\n",
       "      <th>3</th>\n",
       "      <td>s14</td>\n",
       "      <td>Movie</td>\n",
       "      <td>Confessions of an Invisible Girl</td>\n",
       "      <td>Bruno Garotti</td>\n",
       "      <td>Brazil</td>\n",
       "      <td>9/22/2021</td>\n",
       "      <td>2021</td>\n",
       "      <td>TV-PG</td>\n",
       "      <td>91 min</td>\n",
       "      <td>Children &amp; Family Movies, Comedies</td>\n",
       "    </tr>\n",
       "    <tr>\n",
       "      <th>4</th>\n",
       "      <td>s8</td>\n",
       "      <td>Movie</td>\n",
       "      <td>Sankofa</td>\n",
       "      <td>Haile Gerima</td>\n",
       "      <td>United States</td>\n",
       "      <td>9/24/2021</td>\n",
       "      <td>1993</td>\n",
       "      <td>TV-MA</td>\n",
       "      <td>125 min</td>\n",
       "      <td>Dramas, Independent Movies, International Movies</td>\n",
       "    </tr>\n",
       "    <tr>\n",
       "      <th>5</th>\n",
       "      <td>s9</td>\n",
       "      <td>TV Show</td>\n",
       "      <td>The Great British Baking Show</td>\n",
       "      <td>Andy Devonshire</td>\n",
       "      <td>United Kingdom</td>\n",
       "      <td>9/24/2021</td>\n",
       "      <td>2021</td>\n",
       "      <td>TV-14</td>\n",
       "      <td>9 Seasons</td>\n",
       "      <td>British TV Shows, Reality TV</td>\n",
       "    </tr>\n",
       "    <tr>\n",
       "      <th>6</th>\n",
       "      <td>s10</td>\n",
       "      <td>Movie</td>\n",
       "      <td>The Starling</td>\n",
       "      <td>Theodore Melfi</td>\n",
       "      <td>United States</td>\n",
       "      <td>9/24/2021</td>\n",
       "      <td>2021</td>\n",
       "      <td>PG-13</td>\n",
       "      <td>104 min</td>\n",
       "      <td>Comedies, Dramas</td>\n",
       "    </tr>\n",
       "    <tr>\n",
       "      <th>7</th>\n",
       "      <td>s939</td>\n",
       "      <td>Movie</td>\n",
       "      <td>Motu Patlu in the Game of Zones</td>\n",
       "      <td>Suhas Kadav</td>\n",
       "      <td>India</td>\n",
       "      <td>5/1/2021</td>\n",
       "      <td>2019</td>\n",
       "      <td>TV-Y7</td>\n",
       "      <td>87 min</td>\n",
       "      <td>Children &amp; Family Movies, Comedies, Music &amp; Mu...</td>\n",
       "    </tr>\n",
       "    <tr>\n",
       "      <th>8</th>\n",
       "      <td>s13</td>\n",
       "      <td>Movie</td>\n",
       "      <td>Je Suis Karl</td>\n",
       "      <td>Christian Schwochow</td>\n",
       "      <td>Germany</td>\n",
       "      <td>9/23/2021</td>\n",
       "      <td>2021</td>\n",
       "      <td>TV-MA</td>\n",
       "      <td>127 min</td>\n",
       "      <td>Dramas, International Movies</td>\n",
       "    </tr>\n",
       "    <tr>\n",
       "      <th>9</th>\n",
       "      <td>s940</td>\n",
       "      <td>Movie</td>\n",
       "      <td>Motu Patlu in Wonderland</td>\n",
       "      <td>Suhas Kadav</td>\n",
       "      <td>India</td>\n",
       "      <td>5/1/2021</td>\n",
       "      <td>2013</td>\n",
       "      <td>TV-Y7</td>\n",
       "      <td>76 min</td>\n",
       "      <td>Children &amp; Family Movies, Music &amp; Musicals</td>\n",
       "    </tr>\n",
       "    <tr>\n",
       "      <th>10</th>\n",
       "      <td>s941</td>\n",
       "      <td>Movie</td>\n",
       "      <td>Motu Patlu: Deep Sea Adventure</td>\n",
       "      <td>Suhas Kadav</td>\n",
       "      <td>India</td>\n",
       "      <td>5/1/2021</td>\n",
       "      <td>2014</td>\n",
       "      <td>TV-Y7</td>\n",
       "      <td>76 min</td>\n",
       "      <td>Children &amp; Family Movies, Comedies</td>\n",
       "    </tr>\n",
       "    <tr>\n",
       "      <th>11</th>\n",
       "      <td>s942</td>\n",
       "      <td>Movie</td>\n",
       "      <td>Motu Patlu: Mission Moon</td>\n",
       "      <td>Suhas Kadav</td>\n",
       "      <td>India</td>\n",
       "      <td>5/1/2021</td>\n",
       "      <td>2013</td>\n",
       "      <td>TV-Y7</td>\n",
       "      <td>71 min</td>\n",
       "      <td>Children &amp; Family Movies, Comedies</td>\n",
       "    </tr>\n",
       "    <tr>\n",
       "      <th>12</th>\n",
       "      <td>s852</td>\n",
       "      <td>Movie</td>\n",
       "      <td>99 Songs (Tamil)</td>\n",
       "      <td>Not Given</td>\n",
       "      <td>Pakistan</td>\n",
       "      <td>5/21/2021</td>\n",
       "      <td>2021</td>\n",
       "      <td>TV-14</td>\n",
       "      <td>131 min</td>\n",
       "      <td>Dramas, International Movies, Music &amp; Musicals</td>\n",
       "    </tr>\n",
       "    <tr>\n",
       "      <th>13</th>\n",
       "      <td>s471</td>\n",
       "      <td>Movie</td>\n",
       "      <td>Bridgerton - The Afterparty</td>\n",
       "      <td>Krysia Plonka, Kristian Mercado</td>\n",
       "      <td>United States</td>\n",
       "      <td>7/13/2021</td>\n",
       "      <td>2021</td>\n",
       "      <td>TV-14</td>\n",
       "      <td>39 min</td>\n",
       "      <td>Movies</td>\n",
       "    </tr>\n",
       "    <tr>\n",
       "      <th>14</th>\n",
       "      <td>s730</td>\n",
       "      <td>Movie</td>\n",
       "      <td>Bling Empire - The Afterparty</td>\n",
       "      <td>Krysia Plonka, Kristian Mercado</td>\n",
       "      <td>United States</td>\n",
       "      <td>6/12/2021</td>\n",
       "      <td>2021</td>\n",
       "      <td>TV-MA</td>\n",
       "      <td>36 min</td>\n",
       "      <td>Movies</td>\n",
       "    </tr>\n",
       "    <tr>\n",
       "      <th>15</th>\n",
       "      <td>s731</td>\n",
       "      <td>Movie</td>\n",
       "      <td>Cobra Kai - The Afterparty</td>\n",
       "      <td>Krysia Plonka, Kristian Mercado</td>\n",
       "      <td>United States</td>\n",
       "      <td>6/12/2021</td>\n",
       "      <td>2021</td>\n",
       "      <td>TV-MA</td>\n",
       "      <td>34 min</td>\n",
       "      <td>Movies</td>\n",
       "    </tr>\n",
       "    <tr>\n",
       "      <th>16</th>\n",
       "      <td>s913</td>\n",
       "      <td>Movie</td>\n",
       "      <td>The Circle - The Afterparty</td>\n",
       "      <td>Krysia Plonka, Kristian Mercado</td>\n",
       "      <td>United States</td>\n",
       "      <td>5/7/2021</td>\n",
       "      <td>2021</td>\n",
       "      <td>TV-14</td>\n",
       "      <td>35 min</td>\n",
       "      <td>Comedies</td>\n",
       "    </tr>\n",
       "    <tr>\n",
       "      <th>17</th>\n",
       "      <td>s4</td>\n",
       "      <td>TV Show</td>\n",
       "      <td>Jailbirds New Orleans</td>\n",
       "      <td>Not Given</td>\n",
       "      <td>Pakistan</td>\n",
       "      <td>9/24/2021</td>\n",
       "      <td>2021</td>\n",
       "      <td>TV-MA</td>\n",
       "      <td>1 Season</td>\n",
       "      <td>Docuseries, Reality TV</td>\n",
       "    </tr>\n",
       "    <tr>\n",
       "      <th>18</th>\n",
       "      <td>s15</td>\n",
       "      <td>TV Show</td>\n",
       "      <td>Crime Stories: India Detectives</td>\n",
       "      <td>Not Given</td>\n",
       "      <td>Pakistan</td>\n",
       "      <td>9/22/2021</td>\n",
       "      <td>2021</td>\n",
       "      <td>TV-MA</td>\n",
       "      <td>1 Season</td>\n",
       "      <td>British TV Shows, Crime TV Shows, Docuseries</td>\n",
       "    </tr>\n",
       "    <tr>\n",
       "      <th>19</th>\n",
       "      <td>s3232</td>\n",
       "      <td>Movie</td>\n",
       "      <td>True: Winter Wishes</td>\n",
       "      <td>Mark Thornton, Todd Kauffman</td>\n",
       "      <td>United States</td>\n",
       "      <td>11/26/2019</td>\n",
       "      <td>2019</td>\n",
       "      <td>TV-Y</td>\n",
       "      <td>46 min</td>\n",
       "      <td>Children &amp; Family Movies</td>\n",
       "    </tr>\n",
       "  </tbody>\n",
       "</table>\n",
       "</div>"
      ],
      "text/plain": [
       "   show_id     type                             title  \\\n",
       "0       s1    Movie              Dick Johnson Is Dead   \n",
       "1       s3  TV Show                         Ganglands   \n",
       "2       s6  TV Show                     Midnight Mass   \n",
       "3      s14    Movie  Confessions of an Invisible Girl   \n",
       "4       s8    Movie                           Sankofa   \n",
       "5       s9  TV Show     The Great British Baking Show   \n",
       "6      s10    Movie                      The Starling   \n",
       "7     s939    Movie   Motu Patlu in the Game of Zones   \n",
       "8      s13    Movie                      Je Suis Karl   \n",
       "9     s940    Movie          Motu Patlu in Wonderland   \n",
       "10    s941    Movie    Motu Patlu: Deep Sea Adventure   \n",
       "11    s942    Movie          Motu Patlu: Mission Moon   \n",
       "12    s852    Movie                  99 Songs (Tamil)   \n",
       "13    s471    Movie       Bridgerton - The Afterparty   \n",
       "14    s730    Movie     Bling Empire - The Afterparty   \n",
       "15    s731    Movie        Cobra Kai - The Afterparty   \n",
       "16    s913    Movie       The Circle - The Afterparty   \n",
       "17      s4  TV Show             Jailbirds New Orleans   \n",
       "18     s15  TV Show   Crime Stories: India Detectives   \n",
       "19   s3232    Movie               True: Winter Wishes   \n",
       "\n",
       "                           director         country  date_added  release_year  \\\n",
       "0                   Kirsten Johnson   United States   9/25/2021          2020   \n",
       "1                   Julien Leclercq          France   9/24/2021          2021   \n",
       "2                     Mike Flanagan   United States   9/24/2021          2021   \n",
       "3                     Bruno Garotti          Brazil   9/22/2021          2021   \n",
       "4                      Haile Gerima   United States   9/24/2021          1993   \n",
       "5                   Andy Devonshire  United Kingdom   9/24/2021          2021   \n",
       "6                    Theodore Melfi   United States   9/24/2021          2021   \n",
       "7                       Suhas Kadav           India    5/1/2021          2019   \n",
       "8               Christian Schwochow         Germany   9/23/2021          2021   \n",
       "9                       Suhas Kadav           India    5/1/2021          2013   \n",
       "10                      Suhas Kadav           India    5/1/2021          2014   \n",
       "11                      Suhas Kadav           India    5/1/2021          2013   \n",
       "12                        Not Given        Pakistan   5/21/2021          2021   \n",
       "13  Krysia Plonka, Kristian Mercado   United States   7/13/2021          2021   \n",
       "14  Krysia Plonka, Kristian Mercado   United States   6/12/2021          2021   \n",
       "15  Krysia Plonka, Kristian Mercado   United States   6/12/2021          2021   \n",
       "16  Krysia Plonka, Kristian Mercado   United States    5/7/2021          2021   \n",
       "17                        Not Given        Pakistan   9/24/2021          2021   \n",
       "18                        Not Given        Pakistan   9/22/2021          2021   \n",
       "19     Mark Thornton, Todd Kauffman   United States  11/26/2019          2019   \n",
       "\n",
       "   rating   duration                                          listed_in  \n",
       "0   PG-13     90 min                                      Documentaries  \n",
       "1   TV-MA   1 Season  Crime TV Shows, International TV Shows, TV Act...  \n",
       "2   TV-MA   1 Season                 TV Dramas, TV Horror, TV Mysteries  \n",
       "3   TV-PG     91 min                 Children & Family Movies, Comedies  \n",
       "4   TV-MA    125 min   Dramas, Independent Movies, International Movies  \n",
       "5   TV-14  9 Seasons                       British TV Shows, Reality TV  \n",
       "6   PG-13    104 min                                   Comedies, Dramas  \n",
       "7   TV-Y7     87 min  Children & Family Movies, Comedies, Music & Mu...  \n",
       "8   TV-MA    127 min                       Dramas, International Movies  \n",
       "9   TV-Y7     76 min         Children & Family Movies, Music & Musicals  \n",
       "10  TV-Y7     76 min                 Children & Family Movies, Comedies  \n",
       "11  TV-Y7     71 min                 Children & Family Movies, Comedies  \n",
       "12  TV-14    131 min     Dramas, International Movies, Music & Musicals  \n",
       "13  TV-14     39 min                                             Movies  \n",
       "14  TV-MA     36 min                                             Movies  \n",
       "15  TV-MA     34 min                                             Movies  \n",
       "16  TV-14     35 min                                           Comedies  \n",
       "17  TV-MA   1 Season                             Docuseries, Reality TV  \n",
       "18  TV-MA   1 Season       British TV Shows, Crime TV Shows, Docuseries  \n",
       "19   TV-Y     46 min                           Children & Family Movies  "
      ]
     },
     "execution_count": 4,
     "metadata": {},
     "output_type": "execute_result"
    }
   ],
   "source": [
    "data.head(20) # shows first 20 rows"
   ]
  },
  {
   "cell_type": "code",
   "execution_count": 5,
   "id": "1a747254",
   "metadata": {
    "execution": {
     "iopub.execute_input": "2025-06-28T12:54:15.738811Z",
     "iopub.status.busy": "2025-06-28T12:54:15.737742Z",
     "iopub.status.idle": "2025-06-28T12:54:15.756949Z",
     "shell.execute_reply": "2025-06-28T12:54:15.755221Z"
    },
    "papermill": {
     "duration": 0.031772,
     "end_time": "2025-06-28T12:54:15.759468",
     "exception": false,
     "start_time": "2025-06-28T12:54:15.727696",
     "status": "completed"
    },
    "tags": []
   },
   "outputs": [
    {
     "data": {
      "text/html": [
       "<div>\n",
       "<style scoped>\n",
       "    .dataframe tbody tr th:only-of-type {\n",
       "        vertical-align: middle;\n",
       "    }\n",
       "\n",
       "    .dataframe tbody tr th {\n",
       "        vertical-align: top;\n",
       "    }\n",
       "\n",
       "    .dataframe thead th {\n",
       "        text-align: right;\n",
       "    }\n",
       "</style>\n",
       "<table border=\"1\" class=\"dataframe\">\n",
       "  <thead>\n",
       "    <tr style=\"text-align: right;\">\n",
       "      <th></th>\n",
       "      <th>show_id</th>\n",
       "      <th>type</th>\n",
       "      <th>title</th>\n",
       "      <th>director</th>\n",
       "      <th>country</th>\n",
       "      <th>date_added</th>\n",
       "      <th>release_year</th>\n",
       "      <th>rating</th>\n",
       "      <th>duration</th>\n",
       "      <th>listed_in</th>\n",
       "    </tr>\n",
       "  </thead>\n",
       "  <tbody>\n",
       "    <tr>\n",
       "      <th>8780</th>\n",
       "      <td>s8759</td>\n",
       "      <td>TV Show</td>\n",
       "      <td>World's Busiest Cities</td>\n",
       "      <td>Not Given</td>\n",
       "      <td>United Kingdom</td>\n",
       "      <td>2/1/2019</td>\n",
       "      <td>2017</td>\n",
       "      <td>TV-PG</td>\n",
       "      <td>1 Season</td>\n",
       "      <td>British TV Shows, Docuseries</td>\n",
       "    </tr>\n",
       "    <tr>\n",
       "      <th>8781</th>\n",
       "      <td>s8776</td>\n",
       "      <td>TV Show</td>\n",
       "      <td>Yeh Meri Family</td>\n",
       "      <td>Not Given</td>\n",
       "      <td>India</td>\n",
       "      <td>8/31/2018</td>\n",
       "      <td>2018</td>\n",
       "      <td>TV-PG</td>\n",
       "      <td>1 Season</td>\n",
       "      <td>International TV Shows, TV Comedies</td>\n",
       "    </tr>\n",
       "    <tr>\n",
       "      <th>8782</th>\n",
       "      <td>s8781</td>\n",
       "      <td>TV Show</td>\n",
       "      <td>Yo-Kai Watch</td>\n",
       "      <td>Not Given</td>\n",
       "      <td>United States</td>\n",
       "      <td>4/1/2016</td>\n",
       "      <td>2015</td>\n",
       "      <td>TV-Y7</td>\n",
       "      <td>1 Season</td>\n",
       "      <td>Anime Series, Kids' TV</td>\n",
       "    </tr>\n",
       "    <tr>\n",
       "      <th>8783</th>\n",
       "      <td>s8785</td>\n",
       "      <td>Movie</td>\n",
       "      <td>Yoko and His Friends</td>\n",
       "      <td>Not Given</td>\n",
       "      <td>Russia</td>\n",
       "      <td>6/23/2018</td>\n",
       "      <td>2015</td>\n",
       "      <td>TV-Y</td>\n",
       "      <td>78 min</td>\n",
       "      <td>Children &amp; Family Movies</td>\n",
       "    </tr>\n",
       "    <tr>\n",
       "      <th>8784</th>\n",
       "      <td>s8796</td>\n",
       "      <td>TV Show</td>\n",
       "      <td>Yu-Gi-Oh! Arc-V</td>\n",
       "      <td>Not Given</td>\n",
       "      <td>Japan</td>\n",
       "      <td>5/1/2018</td>\n",
       "      <td>2015</td>\n",
       "      <td>TV-Y7</td>\n",
       "      <td>2 Seasons</td>\n",
       "      <td>Anime Series, Kids' TV</td>\n",
       "    </tr>\n",
       "    <tr>\n",
       "      <th>8785</th>\n",
       "      <td>s8797</td>\n",
       "      <td>TV Show</td>\n",
       "      <td>Yunus Emre</td>\n",
       "      <td>Not Given</td>\n",
       "      <td>Turkey</td>\n",
       "      <td>1/17/2017</td>\n",
       "      <td>2016</td>\n",
       "      <td>TV-PG</td>\n",
       "      <td>2 Seasons</td>\n",
       "      <td>International TV Shows, TV Dramas</td>\n",
       "    </tr>\n",
       "    <tr>\n",
       "      <th>8786</th>\n",
       "      <td>s8798</td>\n",
       "      <td>TV Show</td>\n",
       "      <td>Zak Storm</td>\n",
       "      <td>Not Given</td>\n",
       "      <td>United States</td>\n",
       "      <td>9/13/2018</td>\n",
       "      <td>2016</td>\n",
       "      <td>TV-Y7</td>\n",
       "      <td>3 Seasons</td>\n",
       "      <td>Kids' TV</td>\n",
       "    </tr>\n",
       "    <tr>\n",
       "      <th>8787</th>\n",
       "      <td>s8801</td>\n",
       "      <td>TV Show</td>\n",
       "      <td>Zindagi Gulzar Hai</td>\n",
       "      <td>Not Given</td>\n",
       "      <td>Pakistan</td>\n",
       "      <td>12/15/2016</td>\n",
       "      <td>2012</td>\n",
       "      <td>TV-PG</td>\n",
       "      <td>1 Season</td>\n",
       "      <td>International TV Shows, Romantic TV Shows, TV ...</td>\n",
       "    </tr>\n",
       "    <tr>\n",
       "      <th>8788</th>\n",
       "      <td>s8784</td>\n",
       "      <td>TV Show</td>\n",
       "      <td>Yoko</td>\n",
       "      <td>Not Given</td>\n",
       "      <td>Pakistan</td>\n",
       "      <td>6/23/2018</td>\n",
       "      <td>2016</td>\n",
       "      <td>TV-Y</td>\n",
       "      <td>1 Season</td>\n",
       "      <td>Kids' TV</td>\n",
       "    </tr>\n",
       "    <tr>\n",
       "      <th>8789</th>\n",
       "      <td>s8786</td>\n",
       "      <td>TV Show</td>\n",
       "      <td>YOM</td>\n",
       "      <td>Not Given</td>\n",
       "      <td>Pakistan</td>\n",
       "      <td>6/7/2018</td>\n",
       "      <td>2016</td>\n",
       "      <td>TV-Y7</td>\n",
       "      <td>1 Season</td>\n",
       "      <td>Kids' TV</td>\n",
       "    </tr>\n",
       "  </tbody>\n",
       "</table>\n",
       "</div>"
      ],
      "text/plain": [
       "     show_id     type                   title   director         country  \\\n",
       "8780   s8759  TV Show  World's Busiest Cities  Not Given  United Kingdom   \n",
       "8781   s8776  TV Show         Yeh Meri Family  Not Given           India   \n",
       "8782   s8781  TV Show            Yo-Kai Watch  Not Given   United States   \n",
       "8783   s8785    Movie    Yoko and His Friends  Not Given          Russia   \n",
       "8784   s8796  TV Show         Yu-Gi-Oh! Arc-V  Not Given           Japan   \n",
       "8785   s8797  TV Show              Yunus Emre  Not Given          Turkey   \n",
       "8786   s8798  TV Show               Zak Storm  Not Given   United States   \n",
       "8787   s8801  TV Show      Zindagi Gulzar Hai  Not Given        Pakistan   \n",
       "8788   s8784  TV Show                    Yoko  Not Given        Pakistan   \n",
       "8789   s8786  TV Show                     YOM  Not Given        Pakistan   \n",
       "\n",
       "      date_added  release_year rating   duration  \\\n",
       "8780    2/1/2019          2017  TV-PG   1 Season   \n",
       "8781   8/31/2018          2018  TV-PG   1 Season   \n",
       "8782    4/1/2016          2015  TV-Y7   1 Season   \n",
       "8783   6/23/2018          2015   TV-Y     78 min   \n",
       "8784    5/1/2018          2015  TV-Y7  2 Seasons   \n",
       "8785   1/17/2017          2016  TV-PG  2 Seasons   \n",
       "8786   9/13/2018          2016  TV-Y7  3 Seasons   \n",
       "8787  12/15/2016          2012  TV-PG   1 Season   \n",
       "8788   6/23/2018          2016   TV-Y   1 Season   \n",
       "8789    6/7/2018          2016  TV-Y7   1 Season   \n",
       "\n",
       "                                              listed_in  \n",
       "8780                       British TV Shows, Docuseries  \n",
       "8781                International TV Shows, TV Comedies  \n",
       "8782                             Anime Series, Kids' TV  \n",
       "8783                           Children & Family Movies  \n",
       "8784                             Anime Series, Kids' TV  \n",
       "8785                  International TV Shows, TV Dramas  \n",
       "8786                                           Kids' TV  \n",
       "8787  International TV Shows, Romantic TV Shows, TV ...  \n",
       "8788                                           Kids' TV  \n",
       "8789                                           Kids' TV  "
      ]
     },
     "execution_count": 5,
     "metadata": {},
     "output_type": "execute_result"
    }
   ],
   "source": [
    "data.tail(10) # last 10 rows"
   ]
  },
  {
   "cell_type": "code",
   "execution_count": 6,
   "id": "d61a5085",
   "metadata": {
    "execution": {
     "iopub.execute_input": "2025-06-28T12:54:15.781420Z",
     "iopub.status.busy": "2025-06-28T12:54:15.780903Z",
     "iopub.status.idle": "2025-06-28T12:54:15.814350Z",
     "shell.execute_reply": "2025-06-28T12:54:15.813114Z"
    },
    "papermill": {
     "duration": 0.046229,
     "end_time": "2025-06-28T12:54:15.816439",
     "exception": false,
     "start_time": "2025-06-28T12:54:15.770210",
     "status": "completed"
    },
    "tags": []
   },
   "outputs": [
    {
     "data": {
      "text/html": [
       "<div>\n",
       "<style scoped>\n",
       "    .dataframe tbody tr th:only-of-type {\n",
       "        vertical-align: middle;\n",
       "    }\n",
       "\n",
       "    .dataframe tbody tr th {\n",
       "        vertical-align: top;\n",
       "    }\n",
       "\n",
       "    .dataframe thead th {\n",
       "        text-align: right;\n",
       "    }\n",
       "</style>\n",
       "<table border=\"1\" class=\"dataframe\">\n",
       "  <thead>\n",
       "    <tr style=\"text-align: right;\">\n",
       "      <th></th>\n",
       "      <th>show_id</th>\n",
       "      <th>type</th>\n",
       "      <th>title</th>\n",
       "      <th>director</th>\n",
       "      <th>country</th>\n",
       "      <th>date_added</th>\n",
       "      <th>release_year</th>\n",
       "      <th>rating</th>\n",
       "      <th>duration</th>\n",
       "      <th>listed_in</th>\n",
       "    </tr>\n",
       "  </thead>\n",
       "  <tbody>\n",
       "    <tr>\n",
       "      <th>5801</th>\n",
       "      <td>s7919</td>\n",
       "      <td>TV Show</td>\n",
       "      <td>Sadqay Tumhare</td>\n",
       "      <td>Ehtesham Uddin</td>\n",
       "      <td>Pakistan</td>\n",
       "      <td>12/15/2016</td>\n",
       "      <td>2014</td>\n",
       "      <td>TV-PG</td>\n",
       "      <td>1 Season</td>\n",
       "      <td>International TV Shows, Romantic TV Shows, TV ...</td>\n",
       "    </tr>\n",
       "    <tr>\n",
       "      <th>5427</th>\n",
       "      <td>s7427</td>\n",
       "      <td>Movie</td>\n",
       "      <td>Maya Angelou: And Still I Rise</td>\n",
       "      <td>Bob Hercules, Rita Coburn Whack</td>\n",
       "      <td>United States</td>\n",
       "      <td>5/1/2017</td>\n",
       "      <td>2016</td>\n",
       "      <td>TV-PG</td>\n",
       "      <td>114 min</td>\n",
       "      <td>Documentaries</td>\n",
       "    </tr>\n",
       "    <tr>\n",
       "      <th>7345</th>\n",
       "      <td>s2884</td>\n",
       "      <td>TV Show</td>\n",
       "      <td>The Trials of Gabriel Fernandez</td>\n",
       "      <td>Not Given</td>\n",
       "      <td>United States</td>\n",
       "      <td>2/26/2020</td>\n",
       "      <td>2020</td>\n",
       "      <td>TV-MA</td>\n",
       "      <td>1 Season</td>\n",
       "      <td>Crime TV Shows, Docuseries</td>\n",
       "    </tr>\n",
       "    <tr>\n",
       "      <th>8166</th>\n",
       "      <td>s5415</td>\n",
       "      <td>TV Show</td>\n",
       "      <td>Little Witch Academia</td>\n",
       "      <td>Not Given</td>\n",
       "      <td>Japan</td>\n",
       "      <td>6/30/2017</td>\n",
       "      <td>2017</td>\n",
       "      <td>TV-Y7</td>\n",
       "      <td>2 Seasons</td>\n",
       "      <td>Anime Series, International TV Shows</td>\n",
       "    </tr>\n",
       "    <tr>\n",
       "      <th>651</th>\n",
       "      <td>s490</td>\n",
       "      <td>Movie</td>\n",
       "      <td>Back to Q82</td>\n",
       "      <td>Ahmed Siddiqui</td>\n",
       "      <td>Kuwait</td>\n",
       "      <td>7/8/2021</td>\n",
       "      <td>2017</td>\n",
       "      <td>TV-14</td>\n",
       "      <td>104 min</td>\n",
       "      <td>Comedies, International Movies</td>\n",
       "    </tr>\n",
       "  </tbody>\n",
       "</table>\n",
       "</div>"
      ],
      "text/plain": [
       "     show_id     type                            title  \\\n",
       "5801   s7919  TV Show                   Sadqay Tumhare   \n",
       "5427   s7427    Movie   Maya Angelou: And Still I Rise   \n",
       "7345   s2884  TV Show  The Trials of Gabriel Fernandez   \n",
       "8166   s5415  TV Show            Little Witch Academia   \n",
       "651     s490    Movie                      Back to Q82   \n",
       "\n",
       "                             director        country  date_added  \\\n",
       "5801                   Ehtesham Uddin       Pakistan  12/15/2016   \n",
       "5427  Bob Hercules, Rita Coburn Whack  United States    5/1/2017   \n",
       "7345                        Not Given  United States   2/26/2020   \n",
       "8166                        Not Given          Japan   6/30/2017   \n",
       "651                    Ahmed Siddiqui         Kuwait    7/8/2021   \n",
       "\n",
       "      release_year rating   duration  \\\n",
       "5801          2014  TV-PG   1 Season   \n",
       "5427          2016  TV-PG    114 min   \n",
       "7345          2020  TV-MA   1 Season   \n",
       "8166          2017  TV-Y7  2 Seasons   \n",
       "651           2017  TV-14    104 min   \n",
       "\n",
       "                                              listed_in  \n",
       "5801  International TV Shows, Romantic TV Shows, TV ...  \n",
       "5427                                      Documentaries  \n",
       "7345                         Crime TV Shows, Docuseries  \n",
       "8166               Anime Series, International TV Shows  \n",
       "651                      Comedies, International Movies  "
      ]
     },
     "execution_count": 6,
     "metadata": {},
     "output_type": "execute_result"
    }
   ],
   "source": [
    "data.sample(5) # shows randomly 5 rows"
   ]
  },
  {
   "cell_type": "code",
   "execution_count": 7,
   "id": "db40c1fe",
   "metadata": {
    "execution": {
     "iopub.execute_input": "2025-06-28T12:54:15.836139Z",
     "iopub.status.busy": "2025-06-28T12:54:15.835599Z",
     "iopub.status.idle": "2025-06-28T12:54:15.882767Z",
     "shell.execute_reply": "2025-06-28T12:54:15.881332Z"
    },
    "papermill": {
     "duration": 0.059856,
     "end_time": "2025-06-28T12:54:15.885148",
     "exception": false,
     "start_time": "2025-06-28T12:54:15.825292",
     "status": "completed"
    },
    "tags": []
   },
   "outputs": [
    {
     "name": "stdout",
     "output_type": "stream",
     "text": [
      "<class 'pandas.core.frame.DataFrame'>\n",
      "RangeIndex: 8790 entries, 0 to 8789\n",
      "Data columns (total 10 columns):\n",
      " #   Column        Non-Null Count  Dtype \n",
      "---  ------        --------------  ----- \n",
      " 0   show_id       8790 non-null   object\n",
      " 1   type          8790 non-null   object\n",
      " 2   title         8790 non-null   object\n",
      " 3   director      8790 non-null   object\n",
      " 4   country       8790 non-null   object\n",
      " 5   date_added    8790 non-null   object\n",
      " 6   release_year  8790 non-null   int64 \n",
      " 7   rating        8790 non-null   object\n",
      " 8   duration      8790 non-null   object\n",
      " 9   listed_in     8790 non-null   object\n",
      "dtypes: int64(1), object(9)\n",
      "memory usage: 686.8+ KB\n"
     ]
    }
   ],
   "source": [
    "data.info()"
   ]
  },
  {
   "cell_type": "code",
   "execution_count": 8,
   "id": "738e5b52",
   "metadata": {
    "execution": {
     "iopub.execute_input": "2025-06-28T12:54:15.905467Z",
     "iopub.status.busy": "2025-06-28T12:54:15.904931Z",
     "iopub.status.idle": "2025-06-28T12:54:15.914207Z",
     "shell.execute_reply": "2025-06-28T12:54:15.912945Z"
    },
    "papermill": {
     "duration": 0.02215,
     "end_time": "2025-06-28T12:54:15.916619",
     "exception": false,
     "start_time": "2025-06-28T12:54:15.894469",
     "status": "completed"
    },
    "tags": []
   },
   "outputs": [
    {
     "data": {
      "text/plain": [
       "'Deleting redundant columns.\\nRenaming the columns\\nDropping the columns\\nRemove the NaN values from the dataset\\nCheck for some more Transformation'"
      ]
     },
     "execution_count": 8,
     "metadata": {},
     "output_type": "execute_result"
    }
   ],
   "source": [
    "\"\"\"Deleting redundant columns.\n",
    "Renaming the columns\n",
    "Dropping the columns\n",
    "Remove the NaN values from the dataset\n",
    "Check for some more Transformation\"\"\""
   ]
  },
  {
   "cell_type": "code",
   "execution_count": 9,
   "id": "a42f6b37",
   "metadata": {
    "execution": {
     "iopub.execute_input": "2025-06-28T12:54:15.937309Z",
     "iopub.status.busy": "2025-06-28T12:54:15.936802Z",
     "iopub.status.idle": "2025-06-28T12:54:15.953898Z",
     "shell.execute_reply": "2025-06-28T12:54:15.952627Z"
    },
    "papermill": {
     "duration": 0.030158,
     "end_time": "2025-06-28T12:54:15.956453",
     "exception": false,
     "start_time": "2025-06-28T12:54:15.926295",
     "status": "completed"
    },
    "tags": []
   },
   "outputs": [
    {
     "data": {
      "text/html": [
       "<div>\n",
       "<style scoped>\n",
       "    .dataframe tbody tr th:only-of-type {\n",
       "        vertical-align: middle;\n",
       "    }\n",
       "\n",
       "    .dataframe tbody tr th {\n",
       "        vertical-align: top;\n",
       "    }\n",
       "\n",
       "    .dataframe thead th {\n",
       "        text-align: right;\n",
       "    }\n",
       "</style>\n",
       "<table border=\"1\" class=\"dataframe\">\n",
       "  <thead>\n",
       "    <tr style=\"text-align: right;\">\n",
       "      <th></th>\n",
       "      <th>show_id</th>\n",
       "      <th>type</th>\n",
       "      <th>title</th>\n",
       "      <th>director</th>\n",
       "      <th>country</th>\n",
       "      <th>date_added</th>\n",
       "      <th>release_year</th>\n",
       "      <th>rating</th>\n",
       "      <th>duration</th>\n",
       "      <th>listed_in</th>\n",
       "    </tr>\n",
       "  </thead>\n",
       "  <tbody>\n",
       "    <tr>\n",
       "      <th>0</th>\n",
       "      <td>s1</td>\n",
       "      <td>Movie</td>\n",
       "      <td>Dick Johnson Is Dead</td>\n",
       "      <td>Kirsten Johnson</td>\n",
       "      <td>United States</td>\n",
       "      <td>9/25/2021</td>\n",
       "      <td>2020</td>\n",
       "      <td>PG-13</td>\n",
       "      <td>90 min</td>\n",
       "      <td>Documentaries</td>\n",
       "    </tr>\n",
       "  </tbody>\n",
       "</table>\n",
       "</div>"
      ],
      "text/plain": [
       "  show_id   type                 title         director        country  \\\n",
       "0      s1  Movie  Dick Johnson Is Dead  Kirsten Johnson  United States   \n",
       "\n",
       "  date_added  release_year rating duration      listed_in  \n",
       "0  9/25/2021          2020  PG-13   90 min  Documentaries  "
      ]
     },
     "execution_count": 9,
     "metadata": {},
     "output_type": "execute_result"
    }
   ],
   "source": [
    "data.head(1)"
   ]
  },
  {
   "cell_type": "code",
   "execution_count": 10,
   "id": "6a7852a5",
   "metadata": {
    "execution": {
     "iopub.execute_input": "2025-06-28T12:54:15.977626Z",
     "iopub.status.busy": "2025-06-28T12:54:15.977118Z",
     "iopub.status.idle": "2025-06-28T12:54:15.987374Z",
     "shell.execute_reply": "2025-06-28T12:54:15.985522Z"
    },
    "papermill": {
     "duration": 0.023924,
     "end_time": "2025-06-28T12:54:15.990041",
     "exception": false,
     "start_time": "2025-06-28T12:54:15.966117",
     "status": "completed"
    },
    "tags": []
   },
   "outputs": [
    {
     "data": {
      "text/plain": [
       "Index(['show_id', 'type', 'title', 'director', 'country', 'date_added',\n",
       "       'release_year', 'rating', 'duration', 'listed_in'],\n",
       "      dtype='object')"
      ]
     },
     "execution_count": 10,
     "metadata": {},
     "output_type": "execute_result"
    }
   ],
   "source": [
    "data.columns"
   ]
  },
  {
   "cell_type": "code",
   "execution_count": 11,
   "id": "c7f6aed7",
   "metadata": {
    "execution": {
     "iopub.execute_input": "2025-06-28T12:54:16.011884Z",
     "iopub.status.busy": "2025-06-28T12:54:16.011322Z",
     "iopub.status.idle": "2025-06-28T12:54:16.024221Z",
     "shell.execute_reply": "2025-06-28T12:54:16.022953Z"
    },
    "papermill": {
     "duration": 0.026682,
     "end_time": "2025-06-28T12:54:16.026901",
     "exception": false,
     "start_time": "2025-06-28T12:54:16.000219",
     "status": "completed"
    },
    "tags": []
   },
   "outputs": [],
   "source": [
    "data.drop(columns=\"rating\",inplace=True)"
   ]
  },
  {
   "cell_type": "code",
   "execution_count": 12,
   "id": "57e4c71e",
   "metadata": {
    "execution": {
     "iopub.execute_input": "2025-06-28T12:54:16.048518Z",
     "iopub.status.busy": "2025-06-28T12:54:16.048009Z",
     "iopub.status.idle": "2025-06-28T12:54:16.066820Z",
     "shell.execute_reply": "2025-06-28T12:54:16.065302Z"
    },
    "papermill": {
     "duration": 0.032541,
     "end_time": "2025-06-28T12:54:16.069434",
     "exception": false,
     "start_time": "2025-06-28T12:54:16.036893",
     "status": "completed"
    },
    "tags": []
   },
   "outputs": [
    {
     "data": {
      "text/html": [
       "<div>\n",
       "<style scoped>\n",
       "    .dataframe tbody tr th:only-of-type {\n",
       "        vertical-align: middle;\n",
       "    }\n",
       "\n",
       "    .dataframe tbody tr th {\n",
       "        vertical-align: top;\n",
       "    }\n",
       "\n",
       "    .dataframe thead th {\n",
       "        text-align: right;\n",
       "    }\n",
       "</style>\n",
       "<table border=\"1\" class=\"dataframe\">\n",
       "  <thead>\n",
       "    <tr style=\"text-align: right;\">\n",
       "      <th></th>\n",
       "      <th>show_id</th>\n",
       "      <th>type</th>\n",
       "      <th>title</th>\n",
       "      <th>director</th>\n",
       "      <th>country</th>\n",
       "      <th>date_added</th>\n",
       "      <th>release_year</th>\n",
       "      <th>duration</th>\n",
       "      <th>listed_in</th>\n",
       "    </tr>\n",
       "  </thead>\n",
       "  <tbody>\n",
       "    <tr>\n",
       "      <th>0</th>\n",
       "      <td>s1</td>\n",
       "      <td>Movie</td>\n",
       "      <td>Dick Johnson Is Dead</td>\n",
       "      <td>Kirsten Johnson</td>\n",
       "      <td>United States</td>\n",
       "      <td>9/25/2021</td>\n",
       "      <td>2020</td>\n",
       "      <td>90 min</td>\n",
       "      <td>Documentaries</td>\n",
       "    </tr>\n",
       "    <tr>\n",
       "      <th>1</th>\n",
       "      <td>s3</td>\n",
       "      <td>TV Show</td>\n",
       "      <td>Ganglands</td>\n",
       "      <td>Julien Leclercq</td>\n",
       "      <td>France</td>\n",
       "      <td>9/24/2021</td>\n",
       "      <td>2021</td>\n",
       "      <td>1 Season</td>\n",
       "      <td>Crime TV Shows, International TV Shows, TV Act...</td>\n",
       "    </tr>\n",
       "    <tr>\n",
       "      <th>2</th>\n",
       "      <td>s6</td>\n",
       "      <td>TV Show</td>\n",
       "      <td>Midnight Mass</td>\n",
       "      <td>Mike Flanagan</td>\n",
       "      <td>United States</td>\n",
       "      <td>9/24/2021</td>\n",
       "      <td>2021</td>\n",
       "      <td>1 Season</td>\n",
       "      <td>TV Dramas, TV Horror, TV Mysteries</td>\n",
       "    </tr>\n",
       "    <tr>\n",
       "      <th>3</th>\n",
       "      <td>s14</td>\n",
       "      <td>Movie</td>\n",
       "      <td>Confessions of an Invisible Girl</td>\n",
       "      <td>Bruno Garotti</td>\n",
       "      <td>Brazil</td>\n",
       "      <td>9/22/2021</td>\n",
       "      <td>2021</td>\n",
       "      <td>91 min</td>\n",
       "      <td>Children &amp; Family Movies, Comedies</td>\n",
       "    </tr>\n",
       "    <tr>\n",
       "      <th>4</th>\n",
       "      <td>s8</td>\n",
       "      <td>Movie</td>\n",
       "      <td>Sankofa</td>\n",
       "      <td>Haile Gerima</td>\n",
       "      <td>United States</td>\n",
       "      <td>9/24/2021</td>\n",
       "      <td>1993</td>\n",
       "      <td>125 min</td>\n",
       "      <td>Dramas, Independent Movies, International Movies</td>\n",
       "    </tr>\n",
       "  </tbody>\n",
       "</table>\n",
       "</div>"
      ],
      "text/plain": [
       "  show_id     type                             title         director  \\\n",
       "0      s1    Movie              Dick Johnson Is Dead  Kirsten Johnson   \n",
       "1      s3  TV Show                         Ganglands  Julien Leclercq   \n",
       "2      s6  TV Show                     Midnight Mass    Mike Flanagan   \n",
       "3     s14    Movie  Confessions of an Invisible Girl    Bruno Garotti   \n",
       "4      s8    Movie                           Sankofa     Haile Gerima   \n",
       "\n",
       "         country date_added  release_year  duration  \\\n",
       "0  United States  9/25/2021          2020    90 min   \n",
       "1         France  9/24/2021          2021  1 Season   \n",
       "2  United States  9/24/2021          2021  1 Season   \n",
       "3         Brazil  9/22/2021          2021    91 min   \n",
       "4  United States  9/24/2021          1993   125 min   \n",
       "\n",
       "                                           listed_in  \n",
       "0                                      Documentaries  \n",
       "1  Crime TV Shows, International TV Shows, TV Act...  \n",
       "2                 TV Dramas, TV Horror, TV Mysteries  \n",
       "3                 Children & Family Movies, Comedies  \n",
       "4   Dramas, Independent Movies, International Movies  "
      ]
     },
     "execution_count": 12,
     "metadata": {},
     "output_type": "execute_result"
    }
   ],
   "source": [
    "data.head()"
   ]
  },
  {
   "cell_type": "code",
   "execution_count": 13,
   "id": "b40a4bbe",
   "metadata": {
    "execution": {
     "iopub.execute_input": "2025-06-28T12:54:16.092120Z",
     "iopub.status.busy": "2025-06-28T12:54:16.091541Z",
     "iopub.status.idle": "2025-06-28T12:54:16.100977Z",
     "shell.execute_reply": "2025-06-28T12:54:16.099519Z"
    },
    "papermill": {
     "duration": 0.023778,
     "end_time": "2025-06-28T12:54:16.103338",
     "exception": false,
     "start_time": "2025-06-28T12:54:16.079560",
     "status": "completed"
    },
    "tags": []
   },
   "outputs": [
    {
     "data": {
      "text/plain": [
       "Index(['show_id', 'type', 'title', 'director', 'country', 'date_added',\n",
       "       'release_year', 'duration', 'listed_in'],\n",
       "      dtype='object')"
      ]
     },
     "execution_count": 13,
     "metadata": {},
     "output_type": "execute_result"
    }
   ],
   "source": [
    "data.columns"
   ]
  },
  {
   "cell_type": "code",
   "execution_count": 14,
   "id": "314165f9",
   "metadata": {
    "execution": {
     "iopub.execute_input": "2025-06-28T12:54:16.126014Z",
     "iopub.status.busy": "2025-06-28T12:54:16.125432Z",
     "iopub.status.idle": "2025-06-28T12:54:16.133612Z",
     "shell.execute_reply": "2025-06-28T12:54:16.132500Z"
    },
    "papermill": {
     "duration": 0.021626,
     "end_time": "2025-06-28T12:54:16.135469",
     "exception": false,
     "start_time": "2025-06-28T12:54:16.113843",
     "status": "completed"
    },
    "tags": []
   },
   "outputs": [
    {
     "data": {
      "text/plain": [
       "'Deleting redundant columns.\\nRenaming the columns\\nDropping the columns\\nRemove the NaN values from the dataset\\nCheck for some more Transformation'"
      ]
     },
     "execution_count": 14,
     "metadata": {},
     "output_type": "execute_result"
    }
   ],
   "source": [
    "\"\"\"Deleting redundant columns.\n",
    "Renaming the columns\n",
    "Dropping the columns\n",
    "Remove the NaN values from the dataset\n",
    "Check for some more Transformation\"\"\""
   ]
  },
  {
   "cell_type": "code",
   "execution_count": 15,
   "id": "5fe57861",
   "metadata": {
    "execution": {
     "iopub.execute_input": "2025-06-28T12:54:16.157970Z",
     "iopub.status.busy": "2025-06-28T12:54:16.157446Z",
     "iopub.status.idle": "2025-06-28T12:54:16.164321Z",
     "shell.execute_reply": "2025-06-28T12:54:16.162960Z"
    },
    "papermill": {
     "duration": 0.021063,
     "end_time": "2025-06-28T12:54:16.166727",
     "exception": false,
     "start_time": "2025-06-28T12:54:16.145664",
     "status": "completed"
    },
    "tags": []
   },
   "outputs": [],
   "source": [
    "new_column_names=[]\n",
    "for i in data.columns:\n",
    "    new_column_names.append(i.capitalize())\n",
    "    "
   ]
  },
  {
   "cell_type": "code",
   "execution_count": 16,
   "id": "c4147c0a",
   "metadata": {
    "execution": {
     "iopub.execute_input": "2025-06-28T12:54:16.189581Z",
     "iopub.status.busy": "2025-06-28T12:54:16.189063Z",
     "iopub.status.idle": "2025-06-28T12:54:16.197597Z",
     "shell.execute_reply": "2025-06-28T12:54:16.196119Z"
    },
    "papermill": {
     "duration": 0.023239,
     "end_time": "2025-06-28T12:54:16.200406",
     "exception": false,
     "start_time": "2025-06-28T12:54:16.177167",
     "status": "completed"
    },
    "tags": []
   },
   "outputs": [
    {
     "data": {
      "text/plain": [
       "['Show_id',\n",
       " 'Type',\n",
       " 'Title',\n",
       " 'Director',\n",
       " 'Country',\n",
       " 'Date_added',\n",
       " 'Release_year',\n",
       " 'Duration',\n",
       " 'Listed_in']"
      ]
     },
     "execution_count": 16,
     "metadata": {},
     "output_type": "execute_result"
    }
   ],
   "source": [
    "new_column_names"
   ]
  },
  {
   "cell_type": "code",
   "execution_count": 17,
   "id": "838cea70",
   "metadata": {
    "execution": {
     "iopub.execute_input": "2025-06-28T12:54:16.223114Z",
     "iopub.status.busy": "2025-06-28T12:54:16.222478Z",
     "iopub.status.idle": "2025-06-28T12:54:16.230212Z",
     "shell.execute_reply": "2025-06-28T12:54:16.228316Z"
    },
    "papermill": {
     "duration": 0.021971,
     "end_time": "2025-06-28T12:54:16.232788",
     "exception": false,
     "start_time": "2025-06-28T12:54:16.210817",
     "status": "completed"
    },
    "tags": []
   },
   "outputs": [],
   "source": [
    "data.columns=new_column_names"
   ]
  },
  {
   "cell_type": "code",
   "execution_count": 18,
   "id": "66b84f7d",
   "metadata": {
    "execution": {
     "iopub.execute_input": "2025-06-28T12:54:16.256352Z",
     "iopub.status.busy": "2025-06-28T12:54:16.255022Z",
     "iopub.status.idle": "2025-06-28T12:54:16.272748Z",
     "shell.execute_reply": "2025-06-28T12:54:16.271278Z"
    },
    "papermill": {
     "duration": 0.031871,
     "end_time": "2025-06-28T12:54:16.275099",
     "exception": false,
     "start_time": "2025-06-28T12:54:16.243228",
     "status": "completed"
    },
    "tags": []
   },
   "outputs": [
    {
     "data": {
      "text/html": [
       "<div>\n",
       "<style scoped>\n",
       "    .dataframe tbody tr th:only-of-type {\n",
       "        vertical-align: middle;\n",
       "    }\n",
       "\n",
       "    .dataframe tbody tr th {\n",
       "        vertical-align: top;\n",
       "    }\n",
       "\n",
       "    .dataframe thead th {\n",
       "        text-align: right;\n",
       "    }\n",
       "</style>\n",
       "<table border=\"1\" class=\"dataframe\">\n",
       "  <thead>\n",
       "    <tr style=\"text-align: right;\">\n",
       "      <th></th>\n",
       "      <th>Show_id</th>\n",
       "      <th>Type</th>\n",
       "      <th>Title</th>\n",
       "      <th>Director</th>\n",
       "      <th>Country</th>\n",
       "      <th>Date_added</th>\n",
       "      <th>Release_year</th>\n",
       "      <th>Duration</th>\n",
       "      <th>Listed_in</th>\n",
       "    </tr>\n",
       "  </thead>\n",
       "  <tbody>\n",
       "    <tr>\n",
       "      <th>0</th>\n",
       "      <td>s1</td>\n",
       "      <td>Movie</td>\n",
       "      <td>Dick Johnson Is Dead</td>\n",
       "      <td>Kirsten Johnson</td>\n",
       "      <td>United States</td>\n",
       "      <td>9/25/2021</td>\n",
       "      <td>2020</td>\n",
       "      <td>90 min</td>\n",
       "      <td>Documentaries</td>\n",
       "    </tr>\n",
       "    <tr>\n",
       "      <th>1</th>\n",
       "      <td>s3</td>\n",
       "      <td>TV Show</td>\n",
       "      <td>Ganglands</td>\n",
       "      <td>Julien Leclercq</td>\n",
       "      <td>France</td>\n",
       "      <td>9/24/2021</td>\n",
       "      <td>2021</td>\n",
       "      <td>1 Season</td>\n",
       "      <td>Crime TV Shows, International TV Shows, TV Act...</td>\n",
       "    </tr>\n",
       "    <tr>\n",
       "      <th>2</th>\n",
       "      <td>s6</td>\n",
       "      <td>TV Show</td>\n",
       "      <td>Midnight Mass</td>\n",
       "      <td>Mike Flanagan</td>\n",
       "      <td>United States</td>\n",
       "      <td>9/24/2021</td>\n",
       "      <td>2021</td>\n",
       "      <td>1 Season</td>\n",
       "      <td>TV Dramas, TV Horror, TV Mysteries</td>\n",
       "    </tr>\n",
       "    <tr>\n",
       "      <th>3</th>\n",
       "      <td>s14</td>\n",
       "      <td>Movie</td>\n",
       "      <td>Confessions of an Invisible Girl</td>\n",
       "      <td>Bruno Garotti</td>\n",
       "      <td>Brazil</td>\n",
       "      <td>9/22/2021</td>\n",
       "      <td>2021</td>\n",
       "      <td>91 min</td>\n",
       "      <td>Children &amp; Family Movies, Comedies</td>\n",
       "    </tr>\n",
       "    <tr>\n",
       "      <th>4</th>\n",
       "      <td>s8</td>\n",
       "      <td>Movie</td>\n",
       "      <td>Sankofa</td>\n",
       "      <td>Haile Gerima</td>\n",
       "      <td>United States</td>\n",
       "      <td>9/24/2021</td>\n",
       "      <td>1993</td>\n",
       "      <td>125 min</td>\n",
       "      <td>Dramas, Independent Movies, International Movies</td>\n",
       "    </tr>\n",
       "  </tbody>\n",
       "</table>\n",
       "</div>"
      ],
      "text/plain": [
       "  Show_id     Type                             Title         Director  \\\n",
       "0      s1    Movie              Dick Johnson Is Dead  Kirsten Johnson   \n",
       "1      s3  TV Show                         Ganglands  Julien Leclercq   \n",
       "2      s6  TV Show                     Midnight Mass    Mike Flanagan   \n",
       "3     s14    Movie  Confessions of an Invisible Girl    Bruno Garotti   \n",
       "4      s8    Movie                           Sankofa     Haile Gerima   \n",
       "\n",
       "         Country Date_added  Release_year  Duration  \\\n",
       "0  United States  9/25/2021          2020    90 min   \n",
       "1         France  9/24/2021          2021  1 Season   \n",
       "2  United States  9/24/2021          2021  1 Season   \n",
       "3         Brazil  9/22/2021          2021    91 min   \n",
       "4  United States  9/24/2021          1993   125 min   \n",
       "\n",
       "                                           Listed_in  \n",
       "0                                      Documentaries  \n",
       "1  Crime TV Shows, International TV Shows, TV Act...  \n",
       "2                 TV Dramas, TV Horror, TV Mysteries  \n",
       "3                 Children & Family Movies, Comedies  \n",
       "4   Dramas, Independent Movies, International Movies  "
      ]
     },
     "execution_count": 18,
     "metadata": {},
     "output_type": "execute_result"
    }
   ],
   "source": [
    "data.head()"
   ]
  },
  {
   "cell_type": "code",
   "execution_count": 19,
   "id": "0dd22ce2",
   "metadata": {
    "execution": {
     "iopub.execute_input": "2025-06-28T12:54:16.300414Z",
     "iopub.status.busy": "2025-06-28T12:54:16.299937Z",
     "iopub.status.idle": "2025-06-28T12:54:16.309507Z",
     "shell.execute_reply": "2025-06-28T12:54:16.307720Z"
    },
    "papermill": {
     "duration": 0.025092,
     "end_time": "2025-06-28T12:54:16.312074",
     "exception": false,
     "start_time": "2025-06-28T12:54:16.286982",
     "status": "completed"
    },
    "tags": []
   },
   "outputs": [
    {
     "data": {
      "text/plain": [
       "Index(['Show_id', 'Type', 'Title', 'Director', 'Country', 'Date_added',\n",
       "       'Release_year', 'Duration', 'Listed_in'],\n",
       "      dtype='object')"
      ]
     },
     "execution_count": 19,
     "metadata": {},
     "output_type": "execute_result"
    }
   ],
   "source": [
    "data.columns"
   ]
  },
  {
   "cell_type": "code",
   "execution_count": 20,
   "id": "20a71813",
   "metadata": {
    "execution": {
     "iopub.execute_input": "2025-06-28T12:54:16.336044Z",
     "iopub.status.busy": "2025-06-28T12:54:16.335508Z",
     "iopub.status.idle": "2025-06-28T12:54:16.343946Z",
     "shell.execute_reply": "2025-06-28T12:54:16.342600Z"
    },
    "papermill": {
     "duration": 0.022982,
     "end_time": "2025-06-28T12:54:16.346317",
     "exception": false,
     "start_time": "2025-06-28T12:54:16.323335",
     "status": "completed"
    },
    "tags": []
   },
   "outputs": [
    {
     "data": {
      "text/plain": [
       "'Deleting redundant columns.\\nRenaming the columns\\nDropping the columns\\nRemove the NaN values from the dataset\\nCheck for some more Transformation'"
      ]
     },
     "execution_count": 20,
     "metadata": {},
     "output_type": "execute_result"
    }
   ],
   "source": [
    "\"\"\"Deleting redundant columns.\n",
    "Renaming the columns\n",
    "Dropping the columns\n",
    "Remove the NaN values from the dataset\n",
    "Check for some more Transformation\"\"\""
   ]
  },
  {
   "cell_type": "code",
   "execution_count": 21,
   "id": "93fd7d4f",
   "metadata": {
    "execution": {
     "iopub.execute_input": "2025-06-28T12:54:16.370956Z",
     "iopub.status.busy": "2025-06-28T12:54:16.370385Z",
     "iopub.status.idle": "2025-06-28T12:54:16.391160Z",
     "shell.execute_reply": "2025-06-28T12:54:16.389897Z"
    },
    "papermill": {
     "duration": 0.035861,
     "end_time": "2025-06-28T12:54:16.393476",
     "exception": false,
     "start_time": "2025-06-28T12:54:16.357615",
     "status": "completed"
    },
    "tags": []
   },
   "outputs": [
    {
     "data": {
      "text/plain": [
       "0"
      ]
     },
     "execution_count": 21,
     "metadata": {},
     "output_type": "execute_result"
    }
   ],
   "source": [
    "data.duplicated().sum()"
   ]
  },
  {
   "cell_type": "code",
   "execution_count": 22,
   "id": "f3a3fce5",
   "metadata": {
    "execution": {
     "iopub.execute_input": "2025-06-28T12:54:16.552210Z",
     "iopub.status.busy": "2025-06-28T12:54:16.551649Z",
     "iopub.status.idle": "2025-06-28T12:54:16.572758Z",
     "shell.execute_reply": "2025-06-28T12:54:16.571383Z"
    },
    "papermill": {
     "duration": 0.038216,
     "end_time": "2025-06-28T12:54:16.575638",
     "exception": false,
     "start_time": "2025-06-28T12:54:16.537422",
     "status": "completed"
    },
    "tags": []
   },
   "outputs": [],
   "source": [
    "# for cleaning duplicates\n",
    "data.drop_duplicates(inplace=True)"
   ]
  },
  {
   "cell_type": "code",
   "execution_count": 23,
   "id": "e915158b",
   "metadata": {
    "execution": {
     "iopub.execute_input": "2025-06-28T12:54:16.602100Z",
     "iopub.status.busy": "2025-06-28T12:54:16.601522Z",
     "iopub.status.idle": "2025-06-28T12:54:16.610462Z",
     "shell.execute_reply": "2025-06-28T12:54:16.609218Z"
    },
    "papermill": {
     "duration": 0.025275,
     "end_time": "2025-06-28T12:54:16.612519",
     "exception": false,
     "start_time": "2025-06-28T12:54:16.587244",
     "status": "completed"
    },
    "tags": []
   },
   "outputs": [
    {
     "data": {
      "text/plain": [
       "'Deleting redundant columns.\\nRenaming the columns\\nDropping the columns\\nRemove the NaN values from the dataset\\nCheck for some more Transformation'"
      ]
     },
     "execution_count": 23,
     "metadata": {},
     "output_type": "execute_result"
    }
   ],
   "source": [
    "\"\"\"Deleting redundant columns.\n",
    "Renaming the columns\n",
    "Dropping the columns\n",
    "Remove the NaN values from the dataset\n",
    "Check for some more Transformation\"\"\"\n"
   ]
  },
  {
   "cell_type": "code",
   "execution_count": 24,
   "id": "37fd09e8",
   "metadata": {
    "execution": {
     "iopub.execute_input": "2025-06-28T12:54:16.638065Z",
     "iopub.status.busy": "2025-06-28T12:54:16.637578Z",
     "iopub.status.idle": "2025-06-28T12:54:16.653818Z",
     "shell.execute_reply": "2025-06-28T12:54:16.652604Z"
    },
    "papermill": {
     "duration": 0.031294,
     "end_time": "2025-06-28T12:54:16.656197",
     "exception": false,
     "start_time": "2025-06-28T12:54:16.624903",
     "status": "completed"
    },
    "tags": []
   },
   "outputs": [
    {
     "data": {
      "text/plain": [
       "Show_id         0\n",
       "Type            0\n",
       "Title           0\n",
       "Director        0\n",
       "Country         0\n",
       "Date_added      0\n",
       "Release_year    0\n",
       "Duration        0\n",
       "Listed_in       0\n",
       "dtype: int64"
      ]
     },
     "execution_count": 24,
     "metadata": {},
     "output_type": "execute_result"
    }
   ],
   "source": [
    "data.isna().sum()"
   ]
  },
  {
   "cell_type": "code",
   "execution_count": 25,
   "id": "9551d58a",
   "metadata": {
    "execution": {
     "iopub.execute_input": "2025-06-28T12:54:16.682645Z",
     "iopub.status.busy": "2025-06-28T12:54:16.682218Z",
     "iopub.status.idle": "2025-06-28T12:54:16.696380Z",
     "shell.execute_reply": "2025-06-28T12:54:16.694961Z"
    },
    "papermill": {
     "duration": 0.030037,
     "end_time": "2025-06-28T12:54:16.698760",
     "exception": false,
     "start_time": "2025-06-28T12:54:16.668723",
     "status": "completed"
    },
    "tags": []
   },
   "outputs": [],
   "source": [
    "# if we had na values \n",
    "data.dropna(inplace=True)"
   ]
  },
  {
   "cell_type": "code",
   "execution_count": 26,
   "id": "25f4f92f",
   "metadata": {
    "execution": {
     "iopub.execute_input": "2025-06-28T12:54:16.723103Z",
     "iopub.status.busy": "2025-06-28T12:54:16.722485Z",
     "iopub.status.idle": "2025-06-28T12:54:16.730533Z",
     "shell.execute_reply": "2025-06-28T12:54:16.729285Z"
    },
    "papermill": {
     "duration": 0.022584,
     "end_time": "2025-06-28T12:54:16.732544",
     "exception": false,
     "start_time": "2025-06-28T12:54:16.709960",
     "status": "completed"
    },
    "tags": []
   },
   "outputs": [
    {
     "data": {
      "text/plain": [
       "'Deleting redundant columns.\\nRenaming the columns\\nDropping the columns\\nRemove the NaN values from the dataset\\nCheck for some more Transformation'"
      ]
     },
     "execution_count": 26,
     "metadata": {},
     "output_type": "execute_result"
    }
   ],
   "source": [
    "\"\"\"Deleting redundant columns.\n",
    "Renaming the columns\n",
    "Dropping the columns\n",
    "Remove the NaN values from the dataset\n",
    "Check for some more Transformation\"\"\""
   ]
  },
  {
   "cell_type": "code",
   "execution_count": 27,
   "id": "cbf70374",
   "metadata": {
    "execution": {
     "iopub.execute_input": "2025-06-28T12:54:16.755412Z",
     "iopub.status.busy": "2025-06-28T12:54:16.755034Z",
     "iopub.status.idle": "2025-06-28T12:54:16.770272Z",
     "shell.execute_reply": "2025-06-28T12:54:16.769149Z"
    },
    "papermill": {
     "duration": 0.02907,
     "end_time": "2025-06-28T12:54:16.772329",
     "exception": false,
     "start_time": "2025-06-28T12:54:16.743259",
     "status": "completed"
    },
    "tags": []
   },
   "outputs": [
    {
     "data": {
      "text/html": [
       "<div>\n",
       "<style scoped>\n",
       "    .dataframe tbody tr th:only-of-type {\n",
       "        vertical-align: middle;\n",
       "    }\n",
       "\n",
       "    .dataframe tbody tr th {\n",
       "        vertical-align: top;\n",
       "    }\n",
       "\n",
       "    .dataframe thead th {\n",
       "        text-align: right;\n",
       "    }\n",
       "</style>\n",
       "<table border=\"1\" class=\"dataframe\">\n",
       "  <thead>\n",
       "    <tr style=\"text-align: right;\">\n",
       "      <th></th>\n",
       "      <th>Show_id</th>\n",
       "      <th>Type</th>\n",
       "      <th>Title</th>\n",
       "      <th>Director</th>\n",
       "      <th>Country</th>\n",
       "      <th>Date_added</th>\n",
       "      <th>Release_year</th>\n",
       "      <th>Duration</th>\n",
       "      <th>Listed_in</th>\n",
       "    </tr>\n",
       "  </thead>\n",
       "  <tbody>\n",
       "    <tr>\n",
       "      <th>0</th>\n",
       "      <td>s1</td>\n",
       "      <td>Movie</td>\n",
       "      <td>Dick Johnson Is Dead</td>\n",
       "      <td>Kirsten Johnson</td>\n",
       "      <td>United States</td>\n",
       "      <td>9/25/2021</td>\n",
       "      <td>2020</td>\n",
       "      <td>90 min</td>\n",
       "      <td>Documentaries</td>\n",
       "    </tr>\n",
       "    <tr>\n",
       "      <th>1</th>\n",
       "      <td>s3</td>\n",
       "      <td>TV Show</td>\n",
       "      <td>Ganglands</td>\n",
       "      <td>Julien Leclercq</td>\n",
       "      <td>France</td>\n",
       "      <td>9/24/2021</td>\n",
       "      <td>2021</td>\n",
       "      <td>1 Season</td>\n",
       "      <td>Crime TV Shows, International TV Shows, TV Act...</td>\n",
       "    </tr>\n",
       "    <tr>\n",
       "      <th>2</th>\n",
       "      <td>s6</td>\n",
       "      <td>TV Show</td>\n",
       "      <td>Midnight Mass</td>\n",
       "      <td>Mike Flanagan</td>\n",
       "      <td>United States</td>\n",
       "      <td>9/24/2021</td>\n",
       "      <td>2021</td>\n",
       "      <td>1 Season</td>\n",
       "      <td>TV Dramas, TV Horror, TV Mysteries</td>\n",
       "    </tr>\n",
       "    <tr>\n",
       "      <th>3</th>\n",
       "      <td>s14</td>\n",
       "      <td>Movie</td>\n",
       "      <td>Confessions of an Invisible Girl</td>\n",
       "      <td>Bruno Garotti</td>\n",
       "      <td>Brazil</td>\n",
       "      <td>9/22/2021</td>\n",
       "      <td>2021</td>\n",
       "      <td>91 min</td>\n",
       "      <td>Children &amp; Family Movies, Comedies</td>\n",
       "    </tr>\n",
       "    <tr>\n",
       "      <th>4</th>\n",
       "      <td>s8</td>\n",
       "      <td>Movie</td>\n",
       "      <td>Sankofa</td>\n",
       "      <td>Haile Gerima</td>\n",
       "      <td>United States</td>\n",
       "      <td>9/24/2021</td>\n",
       "      <td>1993</td>\n",
       "      <td>125 min</td>\n",
       "      <td>Dramas, Independent Movies, International Movies</td>\n",
       "    </tr>\n",
       "  </tbody>\n",
       "</table>\n",
       "</div>"
      ],
      "text/plain": [
       "  Show_id     Type                             Title         Director  \\\n",
       "0      s1    Movie              Dick Johnson Is Dead  Kirsten Johnson   \n",
       "1      s3  TV Show                         Ganglands  Julien Leclercq   \n",
       "2      s6  TV Show                     Midnight Mass    Mike Flanagan   \n",
       "3     s14    Movie  Confessions of an Invisible Girl    Bruno Garotti   \n",
       "4      s8    Movie                           Sankofa     Haile Gerima   \n",
       "\n",
       "         Country Date_added  Release_year  Duration  \\\n",
       "0  United States  9/25/2021          2020    90 min   \n",
       "1         France  9/24/2021          2021  1 Season   \n",
       "2  United States  9/24/2021          2021  1 Season   \n",
       "3         Brazil  9/22/2021          2021    91 min   \n",
       "4  United States  9/24/2021          1993   125 min   \n",
       "\n",
       "                                           Listed_in  \n",
       "0                                      Documentaries  \n",
       "1  Crime TV Shows, International TV Shows, TV Act...  \n",
       "2                 TV Dramas, TV Horror, TV Mysteries  \n",
       "3                 Children & Family Movies, Comedies  \n",
       "4   Dramas, Independent Movies, International Movies  "
      ]
     },
     "execution_count": 27,
     "metadata": {},
     "output_type": "execute_result"
    }
   ],
   "source": [
    "data.head()"
   ]
  },
  {
   "cell_type": "code",
   "execution_count": 28,
   "id": "551af7aa",
   "metadata": {
    "execution": {
     "iopub.execute_input": "2025-06-28T12:54:16.799700Z",
     "iopub.status.busy": "2025-06-28T12:54:16.798762Z",
     "iopub.status.idle": "2025-06-28T12:54:16.810454Z",
     "shell.execute_reply": "2025-06-28T12:54:16.808468Z"
    },
    "papermill": {
     "duration": 0.027604,
     "end_time": "2025-06-28T12:54:16.812697",
     "exception": false,
     "start_time": "2025-06-28T12:54:16.785093",
     "status": "completed"
    },
    "tags": []
   },
   "outputs": [
    {
     "data": {
      "text/plain": [
       "0          s1\n",
       "1          s3\n",
       "2          s6\n",
       "3         s14\n",
       "4          s8\n",
       "        ...  \n",
       "8785    s8797\n",
       "8786    s8798\n",
       "8787    s8801\n",
       "8788    s8784\n",
       "8789    s8786\n",
       "Name: Show_id, Length: 8790, dtype: object"
      ]
     },
     "execution_count": 28,
     "metadata": {},
     "output_type": "execute_result"
    }
   ],
   "source": [
    "data['Show_id']"
   ]
  },
  {
   "cell_type": "code",
   "execution_count": 29,
   "id": "dbcdb840",
   "metadata": {
    "execution": {
     "iopub.execute_input": "2025-06-28T12:54:16.838937Z",
     "iopub.status.busy": "2025-06-28T12:54:16.838488Z",
     "iopub.status.idle": "2025-06-28T12:54:16.849679Z",
     "shell.execute_reply": "2025-06-28T12:54:16.848261Z"
    },
    "papermill": {
     "duration": 0.026618,
     "end_time": "2025-06-28T12:54:16.852021",
     "exception": false,
     "start_time": "2025-06-28T12:54:16.825403",
     "status": "completed"
    },
    "tags": []
   },
   "outputs": [],
   "source": [
    "data['Show_id']=data['Show_id'].apply(lambda x:x.split('s')[1])"
   ]
  },
  {
   "cell_type": "code",
   "execution_count": 30,
   "id": "80d162e9",
   "metadata": {
    "execution": {
     "iopub.execute_input": "2025-06-28T12:54:16.878750Z",
     "iopub.status.busy": "2025-06-28T12:54:16.878376Z",
     "iopub.status.idle": "2025-06-28T12:54:16.894486Z",
     "shell.execute_reply": "2025-06-28T12:54:16.892969Z"
    },
    "papermill": {
     "duration": 0.031641,
     "end_time": "2025-06-28T12:54:16.896885",
     "exception": false,
     "start_time": "2025-06-28T12:54:16.865244",
     "status": "completed"
    },
    "tags": []
   },
   "outputs": [
    {
     "data": {
      "text/html": [
       "<div>\n",
       "<style scoped>\n",
       "    .dataframe tbody tr th:only-of-type {\n",
       "        vertical-align: middle;\n",
       "    }\n",
       "\n",
       "    .dataframe tbody tr th {\n",
       "        vertical-align: top;\n",
       "    }\n",
       "\n",
       "    .dataframe thead th {\n",
       "        text-align: right;\n",
       "    }\n",
       "</style>\n",
       "<table border=\"1\" class=\"dataframe\">\n",
       "  <thead>\n",
       "    <tr style=\"text-align: right;\">\n",
       "      <th></th>\n",
       "      <th>Show_id</th>\n",
       "      <th>Type</th>\n",
       "      <th>Title</th>\n",
       "      <th>Director</th>\n",
       "      <th>Country</th>\n",
       "      <th>Date_added</th>\n",
       "      <th>Release_year</th>\n",
       "      <th>Duration</th>\n",
       "      <th>Listed_in</th>\n",
       "    </tr>\n",
       "  </thead>\n",
       "  <tbody>\n",
       "    <tr>\n",
       "      <th>0</th>\n",
       "      <td>1</td>\n",
       "      <td>Movie</td>\n",
       "      <td>Dick Johnson Is Dead</td>\n",
       "      <td>Kirsten Johnson</td>\n",
       "      <td>United States</td>\n",
       "      <td>9/25/2021</td>\n",
       "      <td>2020</td>\n",
       "      <td>90 min</td>\n",
       "      <td>Documentaries</td>\n",
       "    </tr>\n",
       "    <tr>\n",
       "      <th>1</th>\n",
       "      <td>3</td>\n",
       "      <td>TV Show</td>\n",
       "      <td>Ganglands</td>\n",
       "      <td>Julien Leclercq</td>\n",
       "      <td>France</td>\n",
       "      <td>9/24/2021</td>\n",
       "      <td>2021</td>\n",
       "      <td>1 Season</td>\n",
       "      <td>Crime TV Shows, International TV Shows, TV Act...</td>\n",
       "    </tr>\n",
       "    <tr>\n",
       "      <th>2</th>\n",
       "      <td>6</td>\n",
       "      <td>TV Show</td>\n",
       "      <td>Midnight Mass</td>\n",
       "      <td>Mike Flanagan</td>\n",
       "      <td>United States</td>\n",
       "      <td>9/24/2021</td>\n",
       "      <td>2021</td>\n",
       "      <td>1 Season</td>\n",
       "      <td>TV Dramas, TV Horror, TV Mysteries</td>\n",
       "    </tr>\n",
       "    <tr>\n",
       "      <th>3</th>\n",
       "      <td>14</td>\n",
       "      <td>Movie</td>\n",
       "      <td>Confessions of an Invisible Girl</td>\n",
       "      <td>Bruno Garotti</td>\n",
       "      <td>Brazil</td>\n",
       "      <td>9/22/2021</td>\n",
       "      <td>2021</td>\n",
       "      <td>91 min</td>\n",
       "      <td>Children &amp; Family Movies, Comedies</td>\n",
       "    </tr>\n",
       "    <tr>\n",
       "      <th>4</th>\n",
       "      <td>8</td>\n",
       "      <td>Movie</td>\n",
       "      <td>Sankofa</td>\n",
       "      <td>Haile Gerima</td>\n",
       "      <td>United States</td>\n",
       "      <td>9/24/2021</td>\n",
       "      <td>1993</td>\n",
       "      <td>125 min</td>\n",
       "      <td>Dramas, Independent Movies, International Movies</td>\n",
       "    </tr>\n",
       "  </tbody>\n",
       "</table>\n",
       "</div>"
      ],
      "text/plain": [
       "  Show_id     Type                             Title         Director  \\\n",
       "0       1    Movie              Dick Johnson Is Dead  Kirsten Johnson   \n",
       "1       3  TV Show                         Ganglands  Julien Leclercq   \n",
       "2       6  TV Show                     Midnight Mass    Mike Flanagan   \n",
       "3      14    Movie  Confessions of an Invisible Girl    Bruno Garotti   \n",
       "4       8    Movie                           Sankofa     Haile Gerima   \n",
       "\n",
       "         Country Date_added  Release_year  Duration  \\\n",
       "0  United States  9/25/2021          2020    90 min   \n",
       "1         France  9/24/2021          2021  1 Season   \n",
       "2  United States  9/24/2021          2021  1 Season   \n",
       "3         Brazil  9/22/2021          2021    91 min   \n",
       "4  United States  9/24/2021          1993   125 min   \n",
       "\n",
       "                                           Listed_in  \n",
       "0                                      Documentaries  \n",
       "1  Crime TV Shows, International TV Shows, TV Act...  \n",
       "2                 TV Dramas, TV Horror, TV Mysteries  \n",
       "3                 Children & Family Movies, Comedies  \n",
       "4   Dramas, Independent Movies, International Movies  "
      ]
     },
     "execution_count": 30,
     "metadata": {},
     "output_type": "execute_result"
    }
   ],
   "source": [
    "data.head()"
   ]
  },
  {
   "cell_type": "code",
   "execution_count": 31,
   "id": "09ed36af",
   "metadata": {
    "execution": {
     "iopub.execute_input": "2025-06-28T12:54:16.924794Z",
     "iopub.status.busy": "2025-06-28T12:54:16.924382Z",
     "iopub.status.idle": "2025-06-28T12:54:16.935125Z",
     "shell.execute_reply": "2025-06-28T12:54:16.932389Z"
    },
    "papermill": {
     "duration": 0.027164,
     "end_time": "2025-06-28T12:54:16.937266",
     "exception": false,
     "start_time": "2025-06-28T12:54:16.910102",
     "status": "completed"
    },
    "tags": []
   },
   "outputs": [
    {
     "data": {
      "text/plain": [
       "str"
      ]
     },
     "execution_count": 31,
     "metadata": {},
     "output_type": "execute_result"
    }
   ],
   "source": [
    "type(data['Show_id'][0])"
   ]
  },
  {
   "cell_type": "code",
   "execution_count": 32,
   "id": "b8745b42",
   "metadata": {
    "execution": {
     "iopub.execute_input": "2025-06-28T12:54:16.965622Z",
     "iopub.status.busy": "2025-06-28T12:54:16.965229Z",
     "iopub.status.idle": "2025-06-28T12:54:16.974133Z",
     "shell.execute_reply": "2025-06-28T12:54:16.971701Z"
    },
    "papermill": {
     "duration": 0.026447,
     "end_time": "2025-06-28T12:54:16.977108",
     "exception": false,
     "start_time": "2025-06-28T12:54:16.950661",
     "status": "completed"
    },
    "tags": []
   },
   "outputs": [],
   "source": [
    "data['Show_id']=data['Show_id'].astype(int)"
   ]
  },
  {
   "cell_type": "code",
   "execution_count": 33,
   "id": "9050a4a3",
   "metadata": {
    "execution": {
     "iopub.execute_input": "2025-06-28T12:54:17.007093Z",
     "iopub.status.busy": "2025-06-28T12:54:17.006375Z",
     "iopub.status.idle": "2025-06-28T12:54:17.020680Z",
     "shell.execute_reply": "2025-06-28T12:54:17.019565Z"
    },
    "papermill": {
     "duration": 0.034086,
     "end_time": "2025-06-28T12:54:17.022977",
     "exception": false,
     "start_time": "2025-06-28T12:54:16.988891",
     "status": "completed"
    },
    "tags": []
   },
   "outputs": [
    {
     "data": {
      "text/plain": [
       "0          1\n",
       "1          3\n",
       "2          6\n",
       "3         14\n",
       "4          8\n",
       "        ... \n",
       "8785    8797\n",
       "8786    8798\n",
       "8787    8801\n",
       "8788    8784\n",
       "8789    8786\n",
       "Name: Show_id, Length: 8790, dtype: int64"
      ]
     },
     "execution_count": 33,
     "metadata": {},
     "output_type": "execute_result"
    }
   ],
   "source": [
    "data['Show_id']"
   ]
  },
  {
   "cell_type": "code",
   "execution_count": 34,
   "id": "ff12ac06",
   "metadata": {
    "execution": {
     "iopub.execute_input": "2025-06-28T12:54:17.052294Z",
     "iopub.status.busy": "2025-06-28T12:54:17.051300Z",
     "iopub.status.idle": "2025-06-28T12:54:17.071027Z",
     "shell.execute_reply": "2025-06-28T12:54:17.068809Z"
    },
    "papermill": {
     "duration": 0.037157,
     "end_time": "2025-06-28T12:54:17.073407",
     "exception": false,
     "start_time": "2025-06-28T12:54:17.036250",
     "status": "completed"
    },
    "tags": []
   },
   "outputs": [
    {
     "data": {
      "text/html": [
       "<div>\n",
       "<style scoped>\n",
       "    .dataframe tbody tr th:only-of-type {\n",
       "        vertical-align: middle;\n",
       "    }\n",
       "\n",
       "    .dataframe tbody tr th {\n",
       "        vertical-align: top;\n",
       "    }\n",
       "\n",
       "    .dataframe thead th {\n",
       "        text-align: right;\n",
       "    }\n",
       "</style>\n",
       "<table border=\"1\" class=\"dataframe\">\n",
       "  <thead>\n",
       "    <tr style=\"text-align: right;\">\n",
       "      <th></th>\n",
       "      <th>Show_id</th>\n",
       "      <th>Type</th>\n",
       "      <th>Title</th>\n",
       "      <th>Director</th>\n",
       "      <th>Country</th>\n",
       "      <th>Date_added</th>\n",
       "      <th>Release_year</th>\n",
       "      <th>Duration</th>\n",
       "      <th>Listed_in</th>\n",
       "    </tr>\n",
       "  </thead>\n",
       "  <tbody>\n",
       "    <tr>\n",
       "      <th>0</th>\n",
       "      <td>1</td>\n",
       "      <td>Movie</td>\n",
       "      <td>Dick Johnson Is Dead</td>\n",
       "      <td>Kirsten Johnson</td>\n",
       "      <td>United States</td>\n",
       "      <td>9/25/2021</td>\n",
       "      <td>2020</td>\n",
       "      <td>90 min</td>\n",
       "      <td>Documentaries</td>\n",
       "    </tr>\n",
       "    <tr>\n",
       "      <th>1</th>\n",
       "      <td>3</td>\n",
       "      <td>TV Show</td>\n",
       "      <td>Ganglands</td>\n",
       "      <td>Julien Leclercq</td>\n",
       "      <td>France</td>\n",
       "      <td>9/24/2021</td>\n",
       "      <td>2021</td>\n",
       "      <td>1 Season</td>\n",
       "      <td>Crime TV Shows, International TV Shows, TV Act...</td>\n",
       "    </tr>\n",
       "    <tr>\n",
       "      <th>2</th>\n",
       "      <td>6</td>\n",
       "      <td>TV Show</td>\n",
       "      <td>Midnight Mass</td>\n",
       "      <td>Mike Flanagan</td>\n",
       "      <td>United States</td>\n",
       "      <td>9/24/2021</td>\n",
       "      <td>2021</td>\n",
       "      <td>1 Season</td>\n",
       "      <td>TV Dramas, TV Horror, TV Mysteries</td>\n",
       "    </tr>\n",
       "    <tr>\n",
       "      <th>3</th>\n",
       "      <td>14</td>\n",
       "      <td>Movie</td>\n",
       "      <td>Confessions of an Invisible Girl</td>\n",
       "      <td>Bruno Garotti</td>\n",
       "      <td>Brazil</td>\n",
       "      <td>9/22/2021</td>\n",
       "      <td>2021</td>\n",
       "      <td>91 min</td>\n",
       "      <td>Children &amp; Family Movies, Comedies</td>\n",
       "    </tr>\n",
       "    <tr>\n",
       "      <th>4</th>\n",
       "      <td>8</td>\n",
       "      <td>Movie</td>\n",
       "      <td>Sankofa</td>\n",
       "      <td>Haile Gerima</td>\n",
       "      <td>United States</td>\n",
       "      <td>9/24/2021</td>\n",
       "      <td>1993</td>\n",
       "      <td>125 min</td>\n",
       "      <td>Dramas, Independent Movies, International Movies</td>\n",
       "    </tr>\n",
       "    <tr>\n",
       "      <th>...</th>\n",
       "      <td>...</td>\n",
       "      <td>...</td>\n",
       "      <td>...</td>\n",
       "      <td>...</td>\n",
       "      <td>...</td>\n",
       "      <td>...</td>\n",
       "      <td>...</td>\n",
       "      <td>...</td>\n",
       "      <td>...</td>\n",
       "    </tr>\n",
       "    <tr>\n",
       "      <th>8785</th>\n",
       "      <td>8797</td>\n",
       "      <td>TV Show</td>\n",
       "      <td>Yunus Emre</td>\n",
       "      <td>Not Given</td>\n",
       "      <td>Turkey</td>\n",
       "      <td>1/17/2017</td>\n",
       "      <td>2016</td>\n",
       "      <td>2 Seasons</td>\n",
       "      <td>International TV Shows, TV Dramas</td>\n",
       "    </tr>\n",
       "    <tr>\n",
       "      <th>8786</th>\n",
       "      <td>8798</td>\n",
       "      <td>TV Show</td>\n",
       "      <td>Zak Storm</td>\n",
       "      <td>Not Given</td>\n",
       "      <td>United States</td>\n",
       "      <td>9/13/2018</td>\n",
       "      <td>2016</td>\n",
       "      <td>3 Seasons</td>\n",
       "      <td>Kids' TV</td>\n",
       "    </tr>\n",
       "    <tr>\n",
       "      <th>8787</th>\n",
       "      <td>8801</td>\n",
       "      <td>TV Show</td>\n",
       "      <td>Zindagi Gulzar Hai</td>\n",
       "      <td>Not Given</td>\n",
       "      <td>Pakistan</td>\n",
       "      <td>12/15/2016</td>\n",
       "      <td>2012</td>\n",
       "      <td>1 Season</td>\n",
       "      <td>International TV Shows, Romantic TV Shows, TV ...</td>\n",
       "    </tr>\n",
       "    <tr>\n",
       "      <th>8788</th>\n",
       "      <td>8784</td>\n",
       "      <td>TV Show</td>\n",
       "      <td>Yoko</td>\n",
       "      <td>Not Given</td>\n",
       "      <td>Pakistan</td>\n",
       "      <td>6/23/2018</td>\n",
       "      <td>2016</td>\n",
       "      <td>1 Season</td>\n",
       "      <td>Kids' TV</td>\n",
       "    </tr>\n",
       "    <tr>\n",
       "      <th>8789</th>\n",
       "      <td>8786</td>\n",
       "      <td>TV Show</td>\n",
       "      <td>YOM</td>\n",
       "      <td>Not Given</td>\n",
       "      <td>Pakistan</td>\n",
       "      <td>6/7/2018</td>\n",
       "      <td>2016</td>\n",
       "      <td>1 Season</td>\n",
       "      <td>Kids' TV</td>\n",
       "    </tr>\n",
       "  </tbody>\n",
       "</table>\n",
       "<p>8790 rows × 9 columns</p>\n",
       "</div>"
      ],
      "text/plain": [
       "      Show_id     Type                             Title         Director  \\\n",
       "0           1    Movie              Dick Johnson Is Dead  Kirsten Johnson   \n",
       "1           3  TV Show                         Ganglands  Julien Leclercq   \n",
       "2           6  TV Show                     Midnight Mass    Mike Flanagan   \n",
       "3          14    Movie  Confessions of an Invisible Girl    Bruno Garotti   \n",
       "4           8    Movie                           Sankofa     Haile Gerima   \n",
       "...       ...      ...                               ...              ...   \n",
       "8785     8797  TV Show                        Yunus Emre        Not Given   \n",
       "8786     8798  TV Show                         Zak Storm        Not Given   \n",
       "8787     8801  TV Show                Zindagi Gulzar Hai        Not Given   \n",
       "8788     8784  TV Show                              Yoko        Not Given   \n",
       "8789     8786  TV Show                               YOM        Not Given   \n",
       "\n",
       "            Country  Date_added  Release_year   Duration  \\\n",
       "0     United States   9/25/2021          2020     90 min   \n",
       "1            France   9/24/2021          2021   1 Season   \n",
       "2     United States   9/24/2021          2021   1 Season   \n",
       "3            Brazil   9/22/2021          2021     91 min   \n",
       "4     United States   9/24/2021          1993    125 min   \n",
       "...             ...         ...           ...        ...   \n",
       "8785         Turkey   1/17/2017          2016  2 Seasons   \n",
       "8786  United States   9/13/2018          2016  3 Seasons   \n",
       "8787       Pakistan  12/15/2016          2012   1 Season   \n",
       "8788       Pakistan   6/23/2018          2016   1 Season   \n",
       "8789       Pakistan    6/7/2018          2016   1 Season   \n",
       "\n",
       "                                              Listed_in  \n",
       "0                                         Documentaries  \n",
       "1     Crime TV Shows, International TV Shows, TV Act...  \n",
       "2                    TV Dramas, TV Horror, TV Mysteries  \n",
       "3                    Children & Family Movies, Comedies  \n",
       "4      Dramas, Independent Movies, International Movies  \n",
       "...                                                 ...  \n",
       "8785                  International TV Shows, TV Dramas  \n",
       "8786                                           Kids' TV  \n",
       "8787  International TV Shows, Romantic TV Shows, TV ...  \n",
       "8788                                           Kids' TV  \n",
       "8789                                           Kids' TV  \n",
       "\n",
       "[8790 rows x 9 columns]"
      ]
     },
     "execution_count": 34,
     "metadata": {},
     "output_type": "execute_result"
    }
   ],
   "source": [
    "data"
   ]
  },
  {
   "cell_type": "code",
   "execution_count": 35,
   "id": "be860f51",
   "metadata": {
    "execution": {
     "iopub.execute_input": "2025-06-28T12:54:17.106551Z",
     "iopub.status.busy": "2025-06-28T12:54:17.105719Z",
     "iopub.status.idle": "2025-06-28T12:54:17.123281Z",
     "shell.execute_reply": "2025-06-28T12:54:17.121715Z"
    },
    "papermill": {
     "duration": 0.037431,
     "end_time": "2025-06-28T12:54:17.125660",
     "exception": false,
     "start_time": "2025-06-28T12:54:17.088229",
     "status": "completed"
    },
    "tags": []
   },
   "outputs": [
    {
     "name": "stdout",
     "output_type": "stream",
     "text": [
      "<class 'pandas.core.frame.DataFrame'>\n",
      "RangeIndex: 8790 entries, 0 to 8789\n",
      "Data columns (total 9 columns):\n",
      " #   Column        Non-Null Count  Dtype \n",
      "---  ------        --------------  ----- \n",
      " 0   Show_id       8790 non-null   int64 \n",
      " 1   Type          8790 non-null   object\n",
      " 2   Title         8790 non-null   object\n",
      " 3   Director      8790 non-null   object\n",
      " 4   Country       8790 non-null   object\n",
      " 5   Date_added    8790 non-null   object\n",
      " 6   Release_year  8790 non-null   int64 \n",
      " 7   Duration      8790 non-null   object\n",
      " 8   Listed_in     8790 non-null   object\n",
      "dtypes: int64(2), object(7)\n",
      "memory usage: 618.2+ KB\n"
     ]
    }
   ],
   "source": [
    "data.info()\n"
   ]
  },
  {
   "cell_type": "code",
   "execution_count": 36,
   "id": "1c1c6f70",
   "metadata": {
    "execution": {
     "iopub.execute_input": "2025-06-28T12:54:17.154727Z",
     "iopub.status.busy": "2025-06-28T12:54:17.154316Z",
     "iopub.status.idle": "2025-06-28T12:54:17.167731Z",
     "shell.execute_reply": "2025-06-28T12:54:17.166181Z"
    },
    "papermill": {
     "duration": 0.031296,
     "end_time": "2025-06-28T12:54:17.169949",
     "exception": false,
     "start_time": "2025-06-28T12:54:17.138653",
     "status": "completed"
    },
    "tags": []
   },
   "outputs": [
    {
     "data": {
      "text/plain": [
       "0        9-25-2021\n",
       "1        9-24-2021\n",
       "2        9-24-2021\n",
       "3        9-22-2021\n",
       "4        9-24-2021\n",
       "           ...    \n",
       "8785     1-17-2017\n",
       "8786     9-13-2018\n",
       "8787    12-15-2016\n",
       "8788     6-23-2018\n",
       "8789      6-7-2018\n",
       "Name: Date_added, Length: 8790, dtype: object"
      ]
     },
     "execution_count": 36,
     "metadata": {},
     "output_type": "execute_result"
    }
   ],
   "source": [
    "data['Date_added'].apply(lambda x:x.replace('/','-'))"
   ]
  },
  {
   "cell_type": "code",
   "execution_count": 37,
   "id": "f86b04ae",
   "metadata": {
    "execution": {
     "iopub.execute_input": "2025-06-28T12:54:17.198978Z",
     "iopub.status.busy": "2025-06-28T12:54:17.198516Z",
     "iopub.status.idle": "2025-06-28T12:54:17.219165Z",
     "shell.execute_reply": "2025-06-28T12:54:17.217916Z"
    },
    "papermill": {
     "duration": 0.038901,
     "end_time": "2025-06-28T12:54:17.221458",
     "exception": false,
     "start_time": "2025-06-28T12:54:17.182557",
     "status": "completed"
    },
    "tags": []
   },
   "outputs": [],
   "source": [
    "data['Date_added']=pd.to_datetime(data['Date_added'])"
   ]
  },
  {
   "cell_type": "code",
   "execution_count": 38,
   "id": "71d9c539",
   "metadata": {
    "execution": {
     "iopub.execute_input": "2025-06-28T12:54:17.250160Z",
     "iopub.status.busy": "2025-06-28T12:54:17.249310Z",
     "iopub.status.idle": "2025-06-28T12:54:17.257934Z",
     "shell.execute_reply": "2025-06-28T12:54:17.256944Z"
    },
    "papermill": {
     "duration": 0.025803,
     "end_time": "2025-06-28T12:54:17.259744",
     "exception": false,
     "start_time": "2025-06-28T12:54:17.233941",
     "status": "completed"
    },
    "tags": []
   },
   "outputs": [
    {
     "data": {
      "text/plain": [
       "0      2021-09-25\n",
       "1      2021-09-24\n",
       "2      2021-09-24\n",
       "3      2021-09-22\n",
       "4      2021-09-24\n",
       "          ...    \n",
       "8785   2017-01-17\n",
       "8786   2018-09-13\n",
       "8787   2016-12-15\n",
       "8788   2018-06-23\n",
       "8789   2018-06-07\n",
       "Name: Date_added, Length: 8790, dtype: datetime64[ns]"
      ]
     },
     "execution_count": 38,
     "metadata": {},
     "output_type": "execute_result"
    }
   ],
   "source": [
    "data['Date_added']"
   ]
  },
  {
   "cell_type": "code",
   "execution_count": 39,
   "id": "a4fc502c",
   "metadata": {
    "execution": {
     "iopub.execute_input": "2025-06-28T12:54:17.286539Z",
     "iopub.status.busy": "2025-06-28T12:54:17.286153Z",
     "iopub.status.idle": "2025-06-28T12:54:17.305190Z",
     "shell.execute_reply": "2025-06-28T12:54:17.303819Z"
    },
    "papermill": {
     "duration": 0.034996,
     "end_time": "2025-06-28T12:54:17.307205",
     "exception": false,
     "start_time": "2025-06-28T12:54:17.272209",
     "status": "completed"
    },
    "tags": []
   },
   "outputs": [
    {
     "name": "stdout",
     "output_type": "stream",
     "text": [
      "<class 'pandas.core.frame.DataFrame'>\n",
      "RangeIndex: 8790 entries, 0 to 8789\n",
      "Data columns (total 9 columns):\n",
      " #   Column        Non-Null Count  Dtype         \n",
      "---  ------        --------------  -----         \n",
      " 0   Show_id       8790 non-null   int64         \n",
      " 1   Type          8790 non-null   object        \n",
      " 2   Title         8790 non-null   object        \n",
      " 3   Director      8790 non-null   object        \n",
      " 4   Country       8790 non-null   object        \n",
      " 5   Date_added    8790 non-null   datetime64[ns]\n",
      " 6   Release_year  8790 non-null   int64         \n",
      " 7   Duration      8790 non-null   object        \n",
      " 8   Listed_in     8790 non-null   object        \n",
      "dtypes: datetime64[ns](1), int64(2), object(6)\n",
      "memory usage: 618.2+ KB\n"
     ]
    }
   ],
   "source": [
    "data.info()"
   ]
  },
  {
   "cell_type": "code",
   "execution_count": 40,
   "id": "ea6e37c2",
   "metadata": {
    "execution": {
     "iopub.execute_input": "2025-06-28T12:54:17.334228Z",
     "iopub.status.busy": "2025-06-28T12:54:17.333761Z",
     "iopub.status.idle": "2025-06-28T12:54:17.349390Z",
     "shell.execute_reply": "2025-06-28T12:54:17.348026Z"
    },
    "papermill": {
     "duration": 0.031997,
     "end_time": "2025-06-28T12:54:17.351776",
     "exception": false,
     "start_time": "2025-06-28T12:54:17.319779",
     "status": "completed"
    },
    "tags": []
   },
   "outputs": [
    {
     "data": {
      "text/html": [
       "<div>\n",
       "<style scoped>\n",
       "    .dataframe tbody tr th:only-of-type {\n",
       "        vertical-align: middle;\n",
       "    }\n",
       "\n",
       "    .dataframe tbody tr th {\n",
       "        vertical-align: top;\n",
       "    }\n",
       "\n",
       "    .dataframe thead th {\n",
       "        text-align: right;\n",
       "    }\n",
       "</style>\n",
       "<table border=\"1\" class=\"dataframe\">\n",
       "  <thead>\n",
       "    <tr style=\"text-align: right;\">\n",
       "      <th></th>\n",
       "      <th>Show_id</th>\n",
       "      <th>Type</th>\n",
       "      <th>Title</th>\n",
       "      <th>Director</th>\n",
       "      <th>Country</th>\n",
       "      <th>Date_added</th>\n",
       "      <th>Release_year</th>\n",
       "      <th>Duration</th>\n",
       "      <th>Listed_in</th>\n",
       "    </tr>\n",
       "  </thead>\n",
       "  <tbody>\n",
       "    <tr>\n",
       "      <th>0</th>\n",
       "      <td>1</td>\n",
       "      <td>Movie</td>\n",
       "      <td>Dick Johnson Is Dead</td>\n",
       "      <td>Kirsten Johnson</td>\n",
       "      <td>United States</td>\n",
       "      <td>2021-09-25</td>\n",
       "      <td>2020</td>\n",
       "      <td>90 min</td>\n",
       "      <td>Documentaries</td>\n",
       "    </tr>\n",
       "    <tr>\n",
       "      <th>1</th>\n",
       "      <td>3</td>\n",
       "      <td>TV Show</td>\n",
       "      <td>Ganglands</td>\n",
       "      <td>Julien Leclercq</td>\n",
       "      <td>France</td>\n",
       "      <td>2021-09-24</td>\n",
       "      <td>2021</td>\n",
       "      <td>1 Season</td>\n",
       "      <td>Crime TV Shows, International TV Shows, TV Act...</td>\n",
       "    </tr>\n",
       "    <tr>\n",
       "      <th>2</th>\n",
       "      <td>6</td>\n",
       "      <td>TV Show</td>\n",
       "      <td>Midnight Mass</td>\n",
       "      <td>Mike Flanagan</td>\n",
       "      <td>United States</td>\n",
       "      <td>2021-09-24</td>\n",
       "      <td>2021</td>\n",
       "      <td>1 Season</td>\n",
       "      <td>TV Dramas, TV Horror, TV Mysteries</td>\n",
       "    </tr>\n",
       "    <tr>\n",
       "      <th>3</th>\n",
       "      <td>14</td>\n",
       "      <td>Movie</td>\n",
       "      <td>Confessions of an Invisible Girl</td>\n",
       "      <td>Bruno Garotti</td>\n",
       "      <td>Brazil</td>\n",
       "      <td>2021-09-22</td>\n",
       "      <td>2021</td>\n",
       "      <td>91 min</td>\n",
       "      <td>Children &amp; Family Movies, Comedies</td>\n",
       "    </tr>\n",
       "    <tr>\n",
       "      <th>4</th>\n",
       "      <td>8</td>\n",
       "      <td>Movie</td>\n",
       "      <td>Sankofa</td>\n",
       "      <td>Haile Gerima</td>\n",
       "      <td>United States</td>\n",
       "      <td>2021-09-24</td>\n",
       "      <td>1993</td>\n",
       "      <td>125 min</td>\n",
       "      <td>Dramas, Independent Movies, International Movies</td>\n",
       "    </tr>\n",
       "  </tbody>\n",
       "</table>\n",
       "</div>"
      ],
      "text/plain": [
       "   Show_id     Type                             Title         Director  \\\n",
       "0        1    Movie              Dick Johnson Is Dead  Kirsten Johnson   \n",
       "1        3  TV Show                         Ganglands  Julien Leclercq   \n",
       "2        6  TV Show                     Midnight Mass    Mike Flanagan   \n",
       "3       14    Movie  Confessions of an Invisible Girl    Bruno Garotti   \n",
       "4        8    Movie                           Sankofa     Haile Gerima   \n",
       "\n",
       "         Country Date_added  Release_year  Duration  \\\n",
       "0  United States 2021-09-25          2020    90 min   \n",
       "1         France 2021-09-24          2021  1 Season   \n",
       "2  United States 2021-09-24          2021  1 Season   \n",
       "3         Brazil 2021-09-22          2021    91 min   \n",
       "4  United States 2021-09-24          1993   125 min   \n",
       "\n",
       "                                           Listed_in  \n",
       "0                                      Documentaries  \n",
       "1  Crime TV Shows, International TV Shows, TV Act...  \n",
       "2                 TV Dramas, TV Horror, TV Mysteries  \n",
       "3                 Children & Family Movies, Comedies  \n",
       "4   Dramas, Independent Movies, International Movies  "
      ]
     },
     "execution_count": 40,
     "metadata": {},
     "output_type": "execute_result"
    }
   ],
   "source": [
    "data.head()"
   ]
  },
  {
   "cell_type": "code",
   "execution_count": 41,
   "id": "89b792e0",
   "metadata": {
    "execution": {
     "iopub.execute_input": "2025-06-28T12:54:17.379342Z",
     "iopub.status.busy": "2025-06-28T12:54:17.379031Z",
     "iopub.status.idle": "2025-06-28T12:54:17.384472Z",
     "shell.execute_reply": "2025-06-28T12:54:17.383483Z"
    },
    "papermill": {
     "duration": 0.021768,
     "end_time": "2025-06-28T12:54:17.386295",
     "exception": false,
     "start_time": "2025-06-28T12:54:17.364527",
     "status": "completed"
    },
    "tags": []
   },
   "outputs": [],
   "source": [
    "data['Release_year']=data['Release_year'].astype(int)"
   ]
  },
  {
   "cell_type": "code",
   "execution_count": 42,
   "id": "1d7e3038",
   "metadata": {
    "execution": {
     "iopub.execute_input": "2025-06-28T12:54:17.412011Z",
     "iopub.status.busy": "2025-06-28T12:54:17.411638Z",
     "iopub.status.idle": "2025-06-28T12:54:17.426479Z",
     "shell.execute_reply": "2025-06-28T12:54:17.425226Z"
    },
    "papermill": {
     "duration": 0.029672,
     "end_time": "2025-06-28T12:54:17.428215",
     "exception": false,
     "start_time": "2025-06-28T12:54:17.398543",
     "status": "completed"
    },
    "tags": []
   },
   "outputs": [
    {
     "name": "stdout",
     "output_type": "stream",
     "text": [
      "<class 'pandas.core.frame.DataFrame'>\n",
      "RangeIndex: 8790 entries, 0 to 8789\n",
      "Data columns (total 9 columns):\n",
      " #   Column        Non-Null Count  Dtype         \n",
      "---  ------        --------------  -----         \n",
      " 0   Show_id       8790 non-null   int64         \n",
      " 1   Type          8790 non-null   object        \n",
      " 2   Title         8790 non-null   object        \n",
      " 3   Director      8790 non-null   object        \n",
      " 4   Country       8790 non-null   object        \n",
      " 5   Date_added    8790 non-null   datetime64[ns]\n",
      " 6   Release_year  8790 non-null   int64         \n",
      " 7   Duration      8790 non-null   object        \n",
      " 8   Listed_in     8790 non-null   object        \n",
      "dtypes: datetime64[ns](1), int64(2), object(6)\n",
      "memory usage: 618.2+ KB\n"
     ]
    }
   ],
   "source": [
    "data.info()"
   ]
  },
  {
   "cell_type": "code",
   "execution_count": 43,
   "id": "3e548f02",
   "metadata": {
    "execution": {
     "iopub.execute_input": "2025-06-28T12:54:17.454065Z",
     "iopub.status.busy": "2025-06-28T12:54:17.453563Z",
     "iopub.status.idle": "2025-06-28T12:54:17.466274Z",
     "shell.execute_reply": "2025-06-28T12:54:17.465264Z"
    },
    "papermill": {
     "duration": 0.027275,
     "end_time": "2025-06-28T12:54:17.467810",
     "exception": false,
     "start_time": "2025-06-28T12:54:17.440535",
     "status": "completed"
    },
    "tags": []
   },
   "outputs": [
    {
     "data": {
      "text/html": [
       "<div>\n",
       "<style scoped>\n",
       "    .dataframe tbody tr th:only-of-type {\n",
       "        vertical-align: middle;\n",
       "    }\n",
       "\n",
       "    .dataframe tbody tr th {\n",
       "        vertical-align: top;\n",
       "    }\n",
       "\n",
       "    .dataframe thead th {\n",
       "        text-align: right;\n",
       "    }\n",
       "</style>\n",
       "<table border=\"1\" class=\"dataframe\">\n",
       "  <thead>\n",
       "    <tr style=\"text-align: right;\">\n",
       "      <th></th>\n",
       "      <th>Show_id</th>\n",
       "      <th>Type</th>\n",
       "      <th>Title</th>\n",
       "      <th>Director</th>\n",
       "      <th>Country</th>\n",
       "      <th>Date_added</th>\n",
       "      <th>Release_year</th>\n",
       "      <th>Duration</th>\n",
       "      <th>Listed_in</th>\n",
       "    </tr>\n",
       "  </thead>\n",
       "  <tbody>\n",
       "    <tr>\n",
       "      <th>0</th>\n",
       "      <td>1</td>\n",
       "      <td>Movie</td>\n",
       "      <td>Dick Johnson Is Dead</td>\n",
       "      <td>Kirsten Johnson</td>\n",
       "      <td>United States</td>\n",
       "      <td>2021-09-25</td>\n",
       "      <td>2020</td>\n",
       "      <td>90 min</td>\n",
       "      <td>Documentaries</td>\n",
       "    </tr>\n",
       "    <tr>\n",
       "      <th>1</th>\n",
       "      <td>3</td>\n",
       "      <td>TV Show</td>\n",
       "      <td>Ganglands</td>\n",
       "      <td>Julien Leclercq</td>\n",
       "      <td>France</td>\n",
       "      <td>2021-09-24</td>\n",
       "      <td>2021</td>\n",
       "      <td>1 Season</td>\n",
       "      <td>Crime TV Shows, International TV Shows, TV Act...</td>\n",
       "    </tr>\n",
       "    <tr>\n",
       "      <th>2</th>\n",
       "      <td>6</td>\n",
       "      <td>TV Show</td>\n",
       "      <td>Midnight Mass</td>\n",
       "      <td>Mike Flanagan</td>\n",
       "      <td>United States</td>\n",
       "      <td>2021-09-24</td>\n",
       "      <td>2021</td>\n",
       "      <td>1 Season</td>\n",
       "      <td>TV Dramas, TV Horror, TV Mysteries</td>\n",
       "    </tr>\n",
       "    <tr>\n",
       "      <th>3</th>\n",
       "      <td>14</td>\n",
       "      <td>Movie</td>\n",
       "      <td>Confessions of an Invisible Girl</td>\n",
       "      <td>Bruno Garotti</td>\n",
       "      <td>Brazil</td>\n",
       "      <td>2021-09-22</td>\n",
       "      <td>2021</td>\n",
       "      <td>91 min</td>\n",
       "      <td>Children &amp; Family Movies, Comedies</td>\n",
       "    </tr>\n",
       "    <tr>\n",
       "      <th>4</th>\n",
       "      <td>8</td>\n",
       "      <td>Movie</td>\n",
       "      <td>Sankofa</td>\n",
       "      <td>Haile Gerima</td>\n",
       "      <td>United States</td>\n",
       "      <td>2021-09-24</td>\n",
       "      <td>1993</td>\n",
       "      <td>125 min</td>\n",
       "      <td>Dramas, Independent Movies, International Movies</td>\n",
       "    </tr>\n",
       "  </tbody>\n",
       "</table>\n",
       "</div>"
      ],
      "text/plain": [
       "   Show_id     Type                             Title         Director  \\\n",
       "0        1    Movie              Dick Johnson Is Dead  Kirsten Johnson   \n",
       "1        3  TV Show                         Ganglands  Julien Leclercq   \n",
       "2        6  TV Show                     Midnight Mass    Mike Flanagan   \n",
       "3       14    Movie  Confessions of an Invisible Girl    Bruno Garotti   \n",
       "4        8    Movie                           Sankofa     Haile Gerima   \n",
       "\n",
       "         Country Date_added  Release_year  Duration  \\\n",
       "0  United States 2021-09-25          2020    90 min   \n",
       "1         France 2021-09-24          2021  1 Season   \n",
       "2  United States 2021-09-24          2021  1 Season   \n",
       "3         Brazil 2021-09-22          2021    91 min   \n",
       "4  United States 2021-09-24          1993   125 min   \n",
       "\n",
       "                                           Listed_in  \n",
       "0                                      Documentaries  \n",
       "1  Crime TV Shows, International TV Shows, TV Act...  \n",
       "2                 TV Dramas, TV Horror, TV Mysteries  \n",
       "3                 Children & Family Movies, Comedies  \n",
       "4   Dramas, Independent Movies, International Movies  "
      ]
     },
     "execution_count": 43,
     "metadata": {},
     "output_type": "execute_result"
    }
   ],
   "source": [
    "data.head()"
   ]
  },
  {
   "cell_type": "code",
   "execution_count": 44,
   "id": "cc71a022",
   "metadata": {
    "execution": {
     "iopub.execute_input": "2025-06-28T12:54:17.494161Z",
     "iopub.status.busy": "2025-06-28T12:54:17.493777Z",
     "iopub.status.idle": "2025-06-28T12:54:17.505814Z",
     "shell.execute_reply": "2025-06-28T12:54:17.504927Z"
    },
    "papermill": {
     "duration": 0.027045,
     "end_time": "2025-06-28T12:54:17.507536",
     "exception": false,
     "start_time": "2025-06-28T12:54:17.480491",
     "status": "completed"
    },
    "tags": []
   },
   "outputs": [
    {
     "data": {
      "text/html": [
       "<div>\n",
       "<style scoped>\n",
       "    .dataframe tbody tr th:only-of-type {\n",
       "        vertical-align: middle;\n",
       "    }\n",
       "\n",
       "    .dataframe tbody tr th {\n",
       "        vertical-align: top;\n",
       "    }\n",
       "\n",
       "    .dataframe thead th {\n",
       "        text-align: right;\n",
       "    }\n",
       "</style>\n",
       "<table border=\"1\" class=\"dataframe\">\n",
       "  <thead>\n",
       "    <tr style=\"text-align: right;\">\n",
       "      <th></th>\n",
       "      <th>Country</th>\n",
       "      <th>count</th>\n",
       "    </tr>\n",
       "  </thead>\n",
       "  <tbody>\n",
       "    <tr>\n",
       "      <th>13</th>\n",
       "      <td>Turkey</td>\n",
       "      <td>112</td>\n",
       "    </tr>\n",
       "  </tbody>\n",
       "</table>\n",
       "</div>"
      ],
      "text/plain": [
       "   Country  count\n",
       "13  Turkey    112"
      ]
     },
     "execution_count": 44,
     "metadata": {},
     "output_type": "execute_result"
    }
   ],
   "source": [
    "df=data[\"Country\"].value_counts().reset_index()\n",
    "df[df['Country']=='Turkey']"
   ]
  },
  {
   "cell_type": "code",
   "execution_count": 45,
   "id": "9687126d",
   "metadata": {
    "execution": {
     "iopub.execute_input": "2025-06-28T12:54:17.536421Z",
     "iopub.status.busy": "2025-06-28T12:54:17.536125Z",
     "iopub.status.idle": "2025-06-28T12:54:17.551319Z",
     "shell.execute_reply": "2025-06-28T12:54:17.550228Z"
    },
    "papermill": {
     "duration": 0.030768,
     "end_time": "2025-06-28T12:54:17.553091",
     "exception": false,
     "start_time": "2025-06-28T12:54:17.522323",
     "status": "completed"
    },
    "tags": []
   },
   "outputs": [
    {
     "data": {
      "text/html": [
       "<div>\n",
       "<style scoped>\n",
       "    .dataframe tbody tr th:only-of-type {\n",
       "        vertical-align: middle;\n",
       "    }\n",
       "\n",
       "    .dataframe tbody tr th {\n",
       "        vertical-align: top;\n",
       "    }\n",
       "\n",
       "    .dataframe thead th {\n",
       "        text-align: right;\n",
       "    }\n",
       "</style>\n",
       "<table border=\"1\" class=\"dataframe\">\n",
       "  <thead>\n",
       "    <tr style=\"text-align: right;\">\n",
       "      <th></th>\n",
       "      <th>Show_id</th>\n",
       "      <th>Type</th>\n",
       "      <th>Title</th>\n",
       "      <th>Director</th>\n",
       "      <th>Country</th>\n",
       "      <th>Date_added</th>\n",
       "      <th>Release_year</th>\n",
       "      <th>Duration</th>\n",
       "      <th>Listed_in</th>\n",
       "    </tr>\n",
       "  </thead>\n",
       "  <tbody>\n",
       "    <tr>\n",
       "      <th>0</th>\n",
       "      <td>1</td>\n",
       "      <td>Movie</td>\n",
       "      <td>Dick Johnson Is Dead</td>\n",
       "      <td>Kirsten Johnson</td>\n",
       "      <td>United States</td>\n",
       "      <td>2021-09-25</td>\n",
       "      <td>2020</td>\n",
       "      <td>90 min</td>\n",
       "      <td>Documentaries</td>\n",
       "    </tr>\n",
       "    <tr>\n",
       "      <th>1</th>\n",
       "      <td>3</td>\n",
       "      <td>TV Show</td>\n",
       "      <td>Ganglands</td>\n",
       "      <td>Julien Leclercq</td>\n",
       "      <td>France</td>\n",
       "      <td>2021-09-24</td>\n",
       "      <td>2021</td>\n",
       "      <td>1 Season</td>\n",
       "      <td>Crime TV Shows, International TV Shows, TV Act...</td>\n",
       "    </tr>\n",
       "    <tr>\n",
       "      <th>2</th>\n",
       "      <td>6</td>\n",
       "      <td>TV Show</td>\n",
       "      <td>Midnight Mass</td>\n",
       "      <td>Mike Flanagan</td>\n",
       "      <td>United States</td>\n",
       "      <td>2021-09-24</td>\n",
       "      <td>2021</td>\n",
       "      <td>1 Season</td>\n",
       "      <td>TV Dramas, TV Horror, TV Mysteries</td>\n",
       "    </tr>\n",
       "    <tr>\n",
       "      <th>3</th>\n",
       "      <td>14</td>\n",
       "      <td>Movie</td>\n",
       "      <td>Confessions of an Invisible Girl</td>\n",
       "      <td>Bruno Garotti</td>\n",
       "      <td>Brazil</td>\n",
       "      <td>2021-09-22</td>\n",
       "      <td>2021</td>\n",
       "      <td>91 min</td>\n",
       "      <td>Children &amp; Family Movies, Comedies</td>\n",
       "    </tr>\n",
       "    <tr>\n",
       "      <th>4</th>\n",
       "      <td>8</td>\n",
       "      <td>Movie</td>\n",
       "      <td>Sankofa</td>\n",
       "      <td>Haile Gerima</td>\n",
       "      <td>United States</td>\n",
       "      <td>2021-09-24</td>\n",
       "      <td>1993</td>\n",
       "      <td>125 min</td>\n",
       "      <td>Dramas, Independent Movies, International Movies</td>\n",
       "    </tr>\n",
       "    <tr>\n",
       "      <th>...</th>\n",
       "      <td>...</td>\n",
       "      <td>...</td>\n",
       "      <td>...</td>\n",
       "      <td>...</td>\n",
       "      <td>...</td>\n",
       "      <td>...</td>\n",
       "      <td>...</td>\n",
       "      <td>...</td>\n",
       "      <td>...</td>\n",
       "    </tr>\n",
       "    <tr>\n",
       "      <th>8785</th>\n",
       "      <td>8797</td>\n",
       "      <td>TV Show</td>\n",
       "      <td>Yunus Emre</td>\n",
       "      <td>Not Given</td>\n",
       "      <td>Turkey</td>\n",
       "      <td>2017-01-17</td>\n",
       "      <td>2016</td>\n",
       "      <td>2 Seasons</td>\n",
       "      <td>International TV Shows, TV Dramas</td>\n",
       "    </tr>\n",
       "    <tr>\n",
       "      <th>8786</th>\n",
       "      <td>8798</td>\n",
       "      <td>TV Show</td>\n",
       "      <td>Zak Storm</td>\n",
       "      <td>Not Given</td>\n",
       "      <td>United States</td>\n",
       "      <td>2018-09-13</td>\n",
       "      <td>2016</td>\n",
       "      <td>3 Seasons</td>\n",
       "      <td>Kids' TV</td>\n",
       "    </tr>\n",
       "    <tr>\n",
       "      <th>8787</th>\n",
       "      <td>8801</td>\n",
       "      <td>TV Show</td>\n",
       "      <td>Zindagi Gulzar Hai</td>\n",
       "      <td>Not Given</td>\n",
       "      <td>Pakistan</td>\n",
       "      <td>2016-12-15</td>\n",
       "      <td>2012</td>\n",
       "      <td>1 Season</td>\n",
       "      <td>International TV Shows, Romantic TV Shows, TV ...</td>\n",
       "    </tr>\n",
       "    <tr>\n",
       "      <th>8788</th>\n",
       "      <td>8784</td>\n",
       "      <td>TV Show</td>\n",
       "      <td>Yoko</td>\n",
       "      <td>Not Given</td>\n",
       "      <td>Pakistan</td>\n",
       "      <td>2018-06-23</td>\n",
       "      <td>2016</td>\n",
       "      <td>1 Season</td>\n",
       "      <td>Kids' TV</td>\n",
       "    </tr>\n",
       "    <tr>\n",
       "      <th>8789</th>\n",
       "      <td>8786</td>\n",
       "      <td>TV Show</td>\n",
       "      <td>YOM</td>\n",
       "      <td>Not Given</td>\n",
       "      <td>Pakistan</td>\n",
       "      <td>2018-06-07</td>\n",
       "      <td>2016</td>\n",
       "      <td>1 Season</td>\n",
       "      <td>Kids' TV</td>\n",
       "    </tr>\n",
       "  </tbody>\n",
       "</table>\n",
       "<p>8790 rows × 9 columns</p>\n",
       "</div>"
      ],
      "text/plain": [
       "      Show_id     Type                             Title         Director  \\\n",
       "0           1    Movie              Dick Johnson Is Dead  Kirsten Johnson   \n",
       "1           3  TV Show                         Ganglands  Julien Leclercq   \n",
       "2           6  TV Show                     Midnight Mass    Mike Flanagan   \n",
       "3          14    Movie  Confessions of an Invisible Girl    Bruno Garotti   \n",
       "4           8    Movie                           Sankofa     Haile Gerima   \n",
       "...       ...      ...                               ...              ...   \n",
       "8785     8797  TV Show                        Yunus Emre        Not Given   \n",
       "8786     8798  TV Show                         Zak Storm        Not Given   \n",
       "8787     8801  TV Show                Zindagi Gulzar Hai        Not Given   \n",
       "8788     8784  TV Show                              Yoko        Not Given   \n",
       "8789     8786  TV Show                               YOM        Not Given   \n",
       "\n",
       "            Country Date_added  Release_year   Duration  \\\n",
       "0     United States 2021-09-25          2020     90 min   \n",
       "1            France 2021-09-24          2021   1 Season   \n",
       "2     United States 2021-09-24          2021   1 Season   \n",
       "3            Brazil 2021-09-22          2021     91 min   \n",
       "4     United States 2021-09-24          1993    125 min   \n",
       "...             ...        ...           ...        ...   \n",
       "8785         Turkey 2017-01-17          2016  2 Seasons   \n",
       "8786  United States 2018-09-13          2016  3 Seasons   \n",
       "8787       Pakistan 2016-12-15          2012   1 Season   \n",
       "8788       Pakistan 2018-06-23          2016   1 Season   \n",
       "8789       Pakistan 2018-06-07          2016   1 Season   \n",
       "\n",
       "                                              Listed_in  \n",
       "0                                         Documentaries  \n",
       "1     Crime TV Shows, International TV Shows, TV Act...  \n",
       "2                    TV Dramas, TV Horror, TV Mysteries  \n",
       "3                    Children & Family Movies, Comedies  \n",
       "4      Dramas, Independent Movies, International Movies  \n",
       "...                                                 ...  \n",
       "8785                  International TV Shows, TV Dramas  \n",
       "8786                                           Kids' TV  \n",
       "8787  International TV Shows, Romantic TV Shows, TV ...  \n",
       "8788                                           Kids' TV  \n",
       "8789                                           Kids' TV  \n",
       "\n",
       "[8790 rows x 9 columns]"
      ]
     },
     "execution_count": 45,
     "metadata": {},
     "output_type": "execute_result"
    }
   ],
   "source": [
    "data"
   ]
  },
  {
   "cell_type": "code",
   "execution_count": 46,
   "id": "9597d62b",
   "metadata": {
    "execution": {
     "iopub.execute_input": "2025-06-28T12:54:17.583976Z",
     "iopub.status.busy": "2025-06-28T12:54:17.583427Z",
     "iopub.status.idle": "2025-06-28T12:54:17.647455Z",
     "shell.execute_reply": "2025-06-28T12:54:17.646208Z"
    },
    "papermill": {
     "duration": 0.081311,
     "end_time": "2025-06-28T12:54:17.649633",
     "exception": false,
     "start_time": "2025-06-28T12:54:17.568322",
     "status": "completed"
    },
    "tags": []
   },
   "outputs": [],
   "source": [
    "data.to_csv('cleaned_data.csv',index=False)"
   ]
  },
  {
   "cell_type": "code",
   "execution_count": 47,
   "id": "91170a98",
   "metadata": {
    "execution": {
     "iopub.execute_input": "2025-06-28T12:54:17.678824Z",
     "iopub.status.busy": "2025-06-28T12:54:17.678407Z",
     "iopub.status.idle": "2025-06-28T12:54:17.696097Z",
     "shell.execute_reply": "2025-06-28T12:54:17.694430Z"
    },
    "papermill": {
     "duration": 0.034976,
     "end_time": "2025-06-28T12:54:17.698331",
     "exception": false,
     "start_time": "2025-06-28T12:54:17.663355",
     "status": "completed"
    },
    "tags": []
   },
   "outputs": [
    {
     "data": {
      "text/html": [
       "<div>\n",
       "<style scoped>\n",
       "    .dataframe tbody tr th:only-of-type {\n",
       "        vertical-align: middle;\n",
       "    }\n",
       "\n",
       "    .dataframe tbody tr th {\n",
       "        vertical-align: top;\n",
       "    }\n",
       "\n",
       "    .dataframe thead th {\n",
       "        text-align: right;\n",
       "    }\n",
       "</style>\n",
       "<table border=\"1\" class=\"dataframe\">\n",
       "  <thead>\n",
       "    <tr style=\"text-align: right;\">\n",
       "      <th></th>\n",
       "      <th>Show_id</th>\n",
       "      <th>Type</th>\n",
       "      <th>Title</th>\n",
       "      <th>Director</th>\n",
       "      <th>Country</th>\n",
       "      <th>Date_added</th>\n",
       "      <th>Release_year</th>\n",
       "      <th>Duration</th>\n",
       "      <th>Listed_in</th>\n",
       "    </tr>\n",
       "  </thead>\n",
       "  <tbody>\n",
       "    <tr>\n",
       "      <th>0</th>\n",
       "      <td>1</td>\n",
       "      <td>Movie</td>\n",
       "      <td>Dick Johnson Is Dead</td>\n",
       "      <td>Kirsten Johnson</td>\n",
       "      <td>United States</td>\n",
       "      <td>2021-09-25</td>\n",
       "      <td>2020</td>\n",
       "      <td>90 min</td>\n",
       "      <td>Documentaries</td>\n",
       "    </tr>\n",
       "    <tr>\n",
       "      <th>1</th>\n",
       "      <td>3</td>\n",
       "      <td>TV Show</td>\n",
       "      <td>Ganglands</td>\n",
       "      <td>Julien Leclercq</td>\n",
       "      <td>France</td>\n",
       "      <td>2021-09-24</td>\n",
       "      <td>2021</td>\n",
       "      <td>1 Season</td>\n",
       "      <td>Crime TV Shows, International TV Shows, TV Act...</td>\n",
       "    </tr>\n",
       "    <tr>\n",
       "      <th>2</th>\n",
       "      <td>6</td>\n",
       "      <td>TV Show</td>\n",
       "      <td>Midnight Mass</td>\n",
       "      <td>Mike Flanagan</td>\n",
       "      <td>United States</td>\n",
       "      <td>2021-09-24</td>\n",
       "      <td>2021</td>\n",
       "      <td>1 Season</td>\n",
       "      <td>TV Dramas, TV Horror, TV Mysteries</td>\n",
       "    </tr>\n",
       "    <tr>\n",
       "      <th>3</th>\n",
       "      <td>14</td>\n",
       "      <td>Movie</td>\n",
       "      <td>Confessions of an Invisible Girl</td>\n",
       "      <td>Bruno Garotti</td>\n",
       "      <td>Brazil</td>\n",
       "      <td>2021-09-22</td>\n",
       "      <td>2021</td>\n",
       "      <td>91 min</td>\n",
       "      <td>Children &amp; Family Movies, Comedies</td>\n",
       "    </tr>\n",
       "    <tr>\n",
       "      <th>4</th>\n",
       "      <td>8</td>\n",
       "      <td>Movie</td>\n",
       "      <td>Sankofa</td>\n",
       "      <td>Haile Gerima</td>\n",
       "      <td>United States</td>\n",
       "      <td>2021-09-24</td>\n",
       "      <td>1993</td>\n",
       "      <td>125 min</td>\n",
       "      <td>Dramas, Independent Movies, International Movies</td>\n",
       "    </tr>\n",
       "    <tr>\n",
       "      <th>...</th>\n",
       "      <td>...</td>\n",
       "      <td>...</td>\n",
       "      <td>...</td>\n",
       "      <td>...</td>\n",
       "      <td>...</td>\n",
       "      <td>...</td>\n",
       "      <td>...</td>\n",
       "      <td>...</td>\n",
       "      <td>...</td>\n",
       "    </tr>\n",
       "    <tr>\n",
       "      <th>8785</th>\n",
       "      <td>8797</td>\n",
       "      <td>TV Show</td>\n",
       "      <td>Yunus Emre</td>\n",
       "      <td>Not Given</td>\n",
       "      <td>Turkey</td>\n",
       "      <td>2017-01-17</td>\n",
       "      <td>2016</td>\n",
       "      <td>2 Seasons</td>\n",
       "      <td>International TV Shows, TV Dramas</td>\n",
       "    </tr>\n",
       "    <tr>\n",
       "      <th>8786</th>\n",
       "      <td>8798</td>\n",
       "      <td>TV Show</td>\n",
       "      <td>Zak Storm</td>\n",
       "      <td>Not Given</td>\n",
       "      <td>United States</td>\n",
       "      <td>2018-09-13</td>\n",
       "      <td>2016</td>\n",
       "      <td>3 Seasons</td>\n",
       "      <td>Kids' TV</td>\n",
       "    </tr>\n",
       "    <tr>\n",
       "      <th>8787</th>\n",
       "      <td>8801</td>\n",
       "      <td>TV Show</td>\n",
       "      <td>Zindagi Gulzar Hai</td>\n",
       "      <td>Not Given</td>\n",
       "      <td>Pakistan</td>\n",
       "      <td>2016-12-15</td>\n",
       "      <td>2012</td>\n",
       "      <td>1 Season</td>\n",
       "      <td>International TV Shows, Romantic TV Shows, TV ...</td>\n",
       "    </tr>\n",
       "    <tr>\n",
       "      <th>8788</th>\n",
       "      <td>8784</td>\n",
       "      <td>TV Show</td>\n",
       "      <td>Yoko</td>\n",
       "      <td>Not Given</td>\n",
       "      <td>Pakistan</td>\n",
       "      <td>2018-06-23</td>\n",
       "      <td>2016</td>\n",
       "      <td>1 Season</td>\n",
       "      <td>Kids' TV</td>\n",
       "    </tr>\n",
       "    <tr>\n",
       "      <th>8789</th>\n",
       "      <td>8786</td>\n",
       "      <td>TV Show</td>\n",
       "      <td>YOM</td>\n",
       "      <td>Not Given</td>\n",
       "      <td>Pakistan</td>\n",
       "      <td>2018-06-07</td>\n",
       "      <td>2016</td>\n",
       "      <td>1 Season</td>\n",
       "      <td>Kids' TV</td>\n",
       "    </tr>\n",
       "  </tbody>\n",
       "</table>\n",
       "<p>8790 rows × 9 columns</p>\n",
       "</div>"
      ],
      "text/plain": [
       "      Show_id     Type                             Title         Director  \\\n",
       "0           1    Movie              Dick Johnson Is Dead  Kirsten Johnson   \n",
       "1           3  TV Show                         Ganglands  Julien Leclercq   \n",
       "2           6  TV Show                     Midnight Mass    Mike Flanagan   \n",
       "3          14    Movie  Confessions of an Invisible Girl    Bruno Garotti   \n",
       "4           8    Movie                           Sankofa     Haile Gerima   \n",
       "...       ...      ...                               ...              ...   \n",
       "8785     8797  TV Show                        Yunus Emre        Not Given   \n",
       "8786     8798  TV Show                         Zak Storm        Not Given   \n",
       "8787     8801  TV Show                Zindagi Gulzar Hai        Not Given   \n",
       "8788     8784  TV Show                              Yoko        Not Given   \n",
       "8789     8786  TV Show                               YOM        Not Given   \n",
       "\n",
       "            Country Date_added  Release_year   Duration  \\\n",
       "0     United States 2021-09-25          2020     90 min   \n",
       "1            France 2021-09-24          2021   1 Season   \n",
       "2     United States 2021-09-24          2021   1 Season   \n",
       "3            Brazil 2021-09-22          2021     91 min   \n",
       "4     United States 2021-09-24          1993    125 min   \n",
       "...             ...        ...           ...        ...   \n",
       "8785         Turkey 2017-01-17          2016  2 Seasons   \n",
       "8786  United States 2018-09-13          2016  3 Seasons   \n",
       "8787       Pakistan 2016-12-15          2012   1 Season   \n",
       "8788       Pakistan 2018-06-23          2016   1 Season   \n",
       "8789       Pakistan 2018-06-07          2016   1 Season   \n",
       "\n",
       "                                              Listed_in  \n",
       "0                                         Documentaries  \n",
       "1     Crime TV Shows, International TV Shows, TV Act...  \n",
       "2                    TV Dramas, TV Horror, TV Mysteries  \n",
       "3                    Children & Family Movies, Comedies  \n",
       "4      Dramas, Independent Movies, International Movies  \n",
       "...                                                 ...  \n",
       "8785                  International TV Shows, TV Dramas  \n",
       "8786                                           Kids' TV  \n",
       "8787  International TV Shows, Romantic TV Shows, TV ...  \n",
       "8788                                           Kids' TV  \n",
       "8789                                           Kids' TV  \n",
       "\n",
       "[8790 rows x 9 columns]"
      ]
     },
     "execution_count": 47,
     "metadata": {},
     "output_type": "execute_result"
    }
   ],
   "source": [
    "data"
   ]
  }
 ],
 "metadata": {
  "kaggle": {
   "accelerator": "none",
   "dataSources": [
    {
     "datasetId": 2437124,
     "sourceId": 4123716,
     "sourceType": "datasetVersion"
    }
   ],
   "dockerImageVersionId": 31040,
   "isGpuEnabled": false,
   "isInternetEnabled": true,
   "language": "python",
   "sourceType": "notebook"
  },
  "kernelspec": {
   "display_name": "Python 3",
   "language": "python",
   "name": "python3"
  },
  "language_info": {
   "codemirror_mode": {
    "name": "ipython",
    "version": 3
   },
   "file_extension": ".py",
   "mimetype": "text/x-python",
   "name": "python",
   "nbconvert_exporter": "python",
   "pygments_lexer": "ipython3",
   "version": "3.11.11"
  },
  "papermill": {
   "default_parameters": {},
   "duration": 13.76627,
   "end_time": "2025-06-28T12:54:18.437349",
   "environment_variables": {},
   "exception": null,
   "input_path": "__notebook__.ipynb",
   "output_path": "__notebook__.ipynb",
   "parameters": {},
   "start_time": "2025-06-28T12:54:04.671079",
   "version": "2.6.0"
  }
 },
 "nbformat": 4,
 "nbformat_minor": 5
}
